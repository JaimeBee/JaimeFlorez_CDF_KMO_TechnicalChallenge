{
 "cells": [
  {
   "cell_type": "markdown",
   "id": "6482fca8",
   "metadata": {},
   "source": [
    "# Aplicación - Knowledge Managment Officer - Proj. \"Habla Tiburón\" - CDF\n",
    "# Jaime Florez   -   Prueba Técnica"
   ]
  },
  {
   "cell_type": "markdown",
   "id": "432d459d",
   "metadata": {},
   "source": [
    "## Initial Data Preparation & Data Exploration"
   ]
  },
  {
   "cell_type": "code",
   "execution_count": 143,
   "id": "726e28fd",
   "metadata": {},
   "outputs": [
    {
     "data": {
      "text/plain": [
       "'C:\\\\Galapagos\\\\CDFCollections240508csv1er_Ejercicio'"
      ]
     },
     "execution_count": 143,
     "metadata": {},
     "output_type": "execute_result"
    }
   ],
   "source": [
    "os.getcwd()"
   ]
  },
  {
   "cell_type": "markdown",
   "id": "a1ed36e8",
   "metadata": {},
   "source": [
    "### READ BELOW!!!\n",
    "### Please change working directory for this code to work to load the csv file.\n",
    "##### I had some trouble setting up a relative path"
   ]
  },
  {
   "cell_type": "code",
   "execution_count": 1,
   "id": "63cfe65f",
   "metadata": {},
   "outputs": [],
   "source": [
    "import os\n",
    "import pandas as pd\n",
    "import numpy as np\n",
    "import seaborn as sns\n",
    "import plotly.express as px"
   ]
  },
  {
   "cell_type": "code",
   "execution_count": 144,
   "id": "91caf196",
   "metadata": {},
   "outputs": [
    {
     "data": {
      "text/html": [
       "<div>\n",
       "<style scoped>\n",
       "    .dataframe tbody tr th:only-of-type {\n",
       "        vertical-align: middle;\n",
       "    }\n",
       "\n",
       "    .dataframe tbody tr th {\n",
       "        vertical-align: top;\n",
       "    }\n",
       "\n",
       "    .dataframe thead th {\n",
       "        text-align: right;\n",
       "    }\n",
       "</style>\n",
       "<table border=\"1\" class=\"dataframe\">\n",
       "  <thead>\n",
       "    <tr style=\"text-align: right;\">\n",
       "      <th></th>\n",
       "      <th>Kingdom</th>\n",
       "      <th>Family</th>\n",
       "      <th>SciName</th>\n",
       "      <th>LatitudeDecimal</th>\n",
       "      <th>LongitudeDecimal</th>\n",
       "      <th>CollectionCode</th>\n",
       "      <th>Origin</th>\n",
       "      <th>StartDate</th>\n",
       "    </tr>\n",
       "  </thead>\n",
       "  <tbody>\n",
       "    <tr>\n",
       "      <th>0</th>\n",
       "      <td>Plantae</td>\n",
       "      <td>Salviniaceae</td>\n",
       "      <td>Azolla filiculoides subsp. cristata</td>\n",
       "      <td>-0.616700</td>\n",
       "      <td>-90.350000</td>\n",
       "      <td>CDS</td>\n",
       "      <td>Native</td>\n",
       "      <td>2003-04-20 00:00:00</td>\n",
       "    </tr>\n",
       "    <tr>\n",
       "      <th>1</th>\n",
       "      <td>Plantae</td>\n",
       "      <td>Boraginaceae</td>\n",
       "      <td>Tournefortia pubescens</td>\n",
       "      <td>-0.496722</td>\n",
       "      <td>-90.358638</td>\n",
       "      <td>CDS</td>\n",
       "      <td>Endemic</td>\n",
       "      <td>1963-02-10 00:00:00</td>\n",
       "    </tr>\n",
       "    <tr>\n",
       "      <th>2</th>\n",
       "      <td>Plantae</td>\n",
       "      <td>Sapindaceae</td>\n",
       "      <td>Cardiospermum galapageium</td>\n",
       "      <td>-0.396666</td>\n",
       "      <td>-90.290833</td>\n",
       "      <td>CDS</td>\n",
       "      <td>Endemic</td>\n",
       "      <td>1963-02-10 00:00:00</td>\n",
       "    </tr>\n",
       "    <tr>\n",
       "      <th>3</th>\n",
       "      <td>Plantae</td>\n",
       "      <td>Euphorbiaceae</td>\n",
       "      <td>Croton scouleri var. darwinii</td>\n",
       "      <td>1.375000</td>\n",
       "      <td>-91.819400</td>\n",
       "      <td>CDS</td>\n",
       "      <td>Endemic</td>\n",
       "      <td>1963-02-16 00:00:00</td>\n",
       "    </tr>\n",
       "    <tr>\n",
       "      <th>4</th>\n",
       "      <td>Plantae</td>\n",
       "      <td>Boraginaceae</td>\n",
       "      <td>Tiquilia fusca</td>\n",
       "      <td>-0.582327</td>\n",
       "      <td>-90.165816</td>\n",
       "      <td>CDS</td>\n",
       "      <td>Endemic</td>\n",
       "      <td>1963-02-20 00:00:00</td>\n",
       "    </tr>\n",
       "  </tbody>\n",
       "</table>\n",
       "</div>"
      ],
      "text/plain": [
       "   Kingdom         Family                              SciName  \\\n",
       "0  Plantae   Salviniaceae  Azolla filiculoides subsp. cristata   \n",
       "1  Plantae   Boraginaceae              Tournefortia pubescens    \n",
       "2  Plantae    Sapindaceae           Cardiospermum galapageium    \n",
       "3  Plantae  Euphorbiaceae        Croton scouleri var. darwinii   \n",
       "4  Plantae   Boraginaceae                      Tiquilia fusca    \n",
       "\n",
       "   LatitudeDecimal  LongitudeDecimal CollectionCode   Origin  \\\n",
       "0        -0.616700        -90.350000            CDS   Native   \n",
       "1        -0.496722        -90.358638            CDS  Endemic   \n",
       "2        -0.396666        -90.290833            CDS  Endemic   \n",
       "3         1.375000        -91.819400            CDS  Endemic   \n",
       "4        -0.582327        -90.165816            CDS  Endemic   \n",
       "\n",
       "             StartDate  \n",
       "0  2003-04-20 00:00:00  \n",
       "1  1963-02-10 00:00:00  \n",
       "2  1963-02-10 00:00:00  \n",
       "3  1963-02-16 00:00:00  \n",
       "4  1963-02-20 00:00:00  "
      ]
     },
     "execution_count": 144,
     "metadata": {},
     "output_type": "execute_result"
    }
   ],
   "source": [
    "csv_path = 'C:\\Galapagos\\CDFCollections240508csv1er_Ejercicio'\n",
    "os.chdir(csv_path)\n",
    "#os.path.join('..', 'Galapagos', 'CDFCollections240508csv1er_Ejercicio')\n",
    "df = pd.read_csv(os.path.join(csv_path, 'CDFCollections240508csv.csv'))\n",
    "df.head()"
   ]
  },
  {
   "cell_type": "code",
   "execution_count": 21,
   "id": "3573c8e6",
   "metadata": {},
   "outputs": [
    {
     "data": {
      "text/plain": [
       "(64765, 8)"
      ]
     },
     "execution_count": 21,
     "metadata": {},
     "output_type": "execute_result"
    }
   ],
   "source": [
    "df.shape"
   ]
  },
  {
   "cell_type": "code",
   "execution_count": 26,
   "id": "86d205cb",
   "metadata": {},
   "outputs": [
    {
     "name": "stdout",
     "output_type": "stream",
     "text": [
      "<class 'pandas.core.frame.DataFrame'>\n",
      "RangeIndex: 64765 entries, 0 to 64764\n",
      "Data columns (total 8 columns):\n",
      " #   Column            Non-Null Count  Dtype         \n",
      "---  ------            --------------  -----         \n",
      " 0   Kingdom           64765 non-null  object        \n",
      " 1   Family            64765 non-null  object        \n",
      " 2   SciName           64765 non-null  object        \n",
      " 3   LatitudeDecimal   64765 non-null  float64       \n",
      " 4   LongitudeDecimal  64765 non-null  float64       \n",
      " 5   CollectionCode    64765 non-null  object        \n",
      " 6   Origin            64765 non-null  object        \n",
      " 7   StartDate         64765 non-null  datetime64[ns]\n",
      "dtypes: datetime64[ns](1), float64(2), object(5)\n",
      "memory usage: 4.0+ MB\n"
     ]
    }
   ],
   "source": [
    "df.info()"
   ]
  },
  {
   "cell_type": "code",
   "execution_count": 25,
   "id": "c05650cf",
   "metadata": {},
   "outputs": [],
   "source": [
    "df['StartDate'] = pd.to_datetime(df['StartDate'])"
   ]
  },
  {
   "cell_type": "code",
   "execution_count": 101,
   "id": "0e58ab95",
   "metadata": {
    "scrolled": true
   },
   "outputs": [
    {
     "data": {
      "text/html": [
       "<div>\n",
       "<style scoped>\n",
       "    .dataframe tbody tr th:only-of-type {\n",
       "        vertical-align: middle;\n",
       "    }\n",
       "\n",
       "    .dataframe tbody tr th {\n",
       "        vertical-align: top;\n",
       "    }\n",
       "\n",
       "    .dataframe thead th {\n",
       "        text-align: right;\n",
       "    }\n",
       "</style>\n",
       "<table border=\"1\" class=\"dataframe\">\n",
       "  <thead>\n",
       "    <tr style=\"text-align: right;\">\n",
       "      <th></th>\n",
       "      <th>Num_Records</th>\n",
       "      <th>Proportion</th>\n",
       "    </tr>\n",
       "    <tr>\n",
       "      <th>CollectionCode</th>\n",
       "      <th></th>\n",
       "      <th></th>\n",
       "    </tr>\n",
       "  </thead>\n",
       "  <tbody>\n",
       "    <tr>\n",
       "      <th>CDS</th>\n",
       "      <td>33399</td>\n",
       "      <td>51.6</td>\n",
       "    </tr>\n",
       "    <tr>\n",
       "      <th>ICCDRS</th>\n",
       "      <td>24647</td>\n",
       "      <td>38.1</td>\n",
       "    </tr>\n",
       "    <tr>\n",
       "      <th>MCCDRS</th>\n",
       "      <td>5207</td>\n",
       "      <td>8.0</td>\n",
       "    </tr>\n",
       "    <tr>\n",
       "      <th>VCCDRS</th>\n",
       "      <td>1512</td>\n",
       "      <td>2.3</td>\n",
       "    </tr>\n",
       "  </tbody>\n",
       "</table>\n",
       "</div>"
      ],
      "text/plain": [
       "                Num_Records  Proportion\n",
       "CollectionCode                         \n",
       "CDS                   33399        51.6\n",
       "ICCDRS                24647        38.1\n",
       "MCCDRS                 5207         8.0\n",
       "VCCDRS                 1512         2.3"
      ]
     },
     "execution_count": 101,
     "metadata": {},
     "output_type": "execute_result"
    }
   ],
   "source": [
    "cc = pd.DataFrame(df.groupby('CollectionCode').size())\n",
    "cc['Proportion'] = ((cc[0]*100)/df.shape[0]).round(1)\n",
    "cc.columns.values[0] = \"Num_Records\"\n",
    "cc"
   ]
  },
  {
   "cell_type": "markdown",
   "id": "482fcb9f",
   "metadata": {},
   "source": [
    "## Calculating Porcentage of Families for Each Collection"
   ]
  },
  {
   "cell_type": "code",
   "execution_count": 127,
   "id": "5e491802",
   "metadata": {},
   "outputs": [
    {
     "name": "stderr",
     "output_type": "stream",
     "text": [
      "C:\\Users\\jaime\\AppData\\Local\\Temp\\ipykernel_16236\\1742461490.py:2: FutureWarning: Not prepending group keys to the result index of transform-like apply. In the future, the group keys will be included in the index, regardless of whether the applied function returns a like-indexed object.\n",
      "To preserve the previous behavior, use\n",
      "\n",
      "\t>>> .groupby(..., group_keys=False)\n",
      "\n",
      "To adopt the future behavior and silence this warning, use \n",
      "\n",
      "\t>>> .groupby(..., group_keys=True)\n",
      "  Fams['Porcentage'] = (Fams.groupby(level=0).apply(lambda x:  100*x / x.sum())).round(3)\n"
     ]
    },
    {
     "data": {
      "text/html": [
       "<div>\n",
       "<style scoped>\n",
       "    .dataframe tbody tr th:only-of-type {\n",
       "        vertical-align: middle;\n",
       "    }\n",
       "\n",
       "    .dataframe tbody tr th {\n",
       "        vertical-align: top;\n",
       "    }\n",
       "\n",
       "    .dataframe thead th {\n",
       "        text-align: right;\n",
       "    }\n",
       "</style>\n",
       "<table border=\"1\" class=\"dataframe\">\n",
       "  <thead>\n",
       "    <tr style=\"text-align: right;\">\n",
       "      <th></th>\n",
       "      <th>CollectionCode</th>\n",
       "      <th>Family</th>\n",
       "      <th>Num_Records</th>\n",
       "      <th>Porcentage</th>\n",
       "    </tr>\n",
       "  </thead>\n",
       "  <tbody>\n",
       "    <tr>\n",
       "      <th>0</th>\n",
       "      <td>CDS</td>\n",
       "      <td>Acanthaceae</td>\n",
       "      <td>255</td>\n",
       "      <td>0.763</td>\n",
       "    </tr>\n",
       "    <tr>\n",
       "      <th>1</th>\n",
       "      <td>CDS</td>\n",
       "      <td>Acarosporaceae</td>\n",
       "      <td>35</td>\n",
       "      <td>0.105</td>\n",
       "    </tr>\n",
       "    <tr>\n",
       "      <th>2</th>\n",
       "      <td>CDS</td>\n",
       "      <td>Agavaceae</td>\n",
       "      <td>40</td>\n",
       "      <td>0.120</td>\n",
       "    </tr>\n",
       "    <tr>\n",
       "      <th>3</th>\n",
       "      <td>CDS</td>\n",
       "      <td>Agyriaceae</td>\n",
       "      <td>23</td>\n",
       "      <td>0.069</td>\n",
       "    </tr>\n",
       "    <tr>\n",
       "      <th>4</th>\n",
       "      <td>CDS</td>\n",
       "      <td>Ahnfeltiaceae</td>\n",
       "      <td>5</td>\n",
       "      <td>0.015</td>\n",
       "    </tr>\n",
       "    <tr>\n",
       "      <th>...</th>\n",
       "      <td>...</td>\n",
       "      <td>...</td>\n",
       "      <td>...</td>\n",
       "      <td>...</td>\n",
       "    </tr>\n",
       "    <tr>\n",
       "      <th>1032</th>\n",
       "      <td>VCCDRS</td>\n",
       "      <td>Tropiduridae</td>\n",
       "      <td>12</td>\n",
       "      <td>0.794</td>\n",
       "    </tr>\n",
       "    <tr>\n",
       "      <th>1033</th>\n",
       "      <td>VCCDRS</td>\n",
       "      <td>Tyrannidae</td>\n",
       "      <td>15</td>\n",
       "      <td>0.992</td>\n",
       "    </tr>\n",
       "    <tr>\n",
       "      <th>1034</th>\n",
       "      <td>VCCDRS</td>\n",
       "      <td>Tytonidae</td>\n",
       "      <td>15</td>\n",
       "      <td>0.992</td>\n",
       "    </tr>\n",
       "    <tr>\n",
       "      <th>1035</th>\n",
       "      <td>VCCDRS</td>\n",
       "      <td>Vespertilionidae</td>\n",
       "      <td>12</td>\n",
       "      <td>0.794</td>\n",
       "    </tr>\n",
       "    <tr>\n",
       "      <th>1036</th>\n",
       "      <td>VCCDRS</td>\n",
       "      <td>Ziphiidae</td>\n",
       "      <td>3</td>\n",
       "      <td>0.198</td>\n",
       "    </tr>\n",
       "  </tbody>\n",
       "</table>\n",
       "<p>1037 rows × 4 columns</p>\n",
       "</div>"
      ],
      "text/plain": [
       "     CollectionCode            Family  Num_Records  Porcentage\n",
       "0               CDS       Acanthaceae          255       0.763\n",
       "1               CDS    Acarosporaceae           35       0.105\n",
       "2               CDS         Agavaceae           40       0.120\n",
       "3               CDS        Agyriaceae           23       0.069\n",
       "4               CDS     Ahnfeltiaceae            5       0.015\n",
       "...             ...               ...          ...         ...\n",
       "1032         VCCDRS      Tropiduridae           12       0.794\n",
       "1033         VCCDRS        Tyrannidae           15       0.992\n",
       "1034         VCCDRS         Tytonidae           15       0.992\n",
       "1035         VCCDRS  Vespertilionidae           12       0.794\n",
       "1036         VCCDRS         Ziphiidae            3       0.198\n",
       "\n",
       "[1037 rows x 4 columns]"
      ]
     },
     "execution_count": 127,
     "metadata": {},
     "output_type": "execute_result"
    }
   ],
   "source": [
    "Fams = pd.DataFrame(df.groupby(['CollectionCode', 'Family']).size())\n",
    "Fams['Porcentage'] = (Fams.groupby(level=0).apply(lambda x:  100*x / x.sum())).round(3)\n",
    "Fams.columns.values[0] = \"Num_Records\"\n",
    "Fams.reset_index(inplace = True)\n",
    "Fams"
   ]
  },
  {
   "cell_type": "markdown",
   "id": "d30c0536",
   "metadata": {},
   "source": [
    "## Calculating Porcentage of Each Species Origin Status"
   ]
  },
  {
   "cell_type": "code",
   "execution_count": 135,
   "id": "94c54319",
   "metadata": {},
   "outputs": [
    {
     "data": {
      "text/html": [
       "<div>\n",
       "<style scoped>\n",
       "    .dataframe tbody tr th:only-of-type {\n",
       "        vertical-align: middle;\n",
       "    }\n",
       "\n",
       "    .dataframe tbody tr th {\n",
       "        vertical-align: top;\n",
       "    }\n",
       "\n",
       "    .dataframe thead th {\n",
       "        text-align: right;\n",
       "    }\n",
       "</style>\n",
       "<table border=\"1\" class=\"dataframe\">\n",
       "  <thead>\n",
       "    <tr style=\"text-align: right;\">\n",
       "      <th></th>\n",
       "      <th>Origin</th>\n",
       "      <th>Num_Records</th>\n",
       "      <th>Porcentage</th>\n",
       "    </tr>\n",
       "  </thead>\n",
       "  <tbody>\n",
       "    <tr>\n",
       "      <th>0</th>\n",
       "      <td>Cryptogenic</td>\n",
       "      <td>2061</td>\n",
       "      <td>3.18</td>\n",
       "    </tr>\n",
       "    <tr>\n",
       "      <th>1</th>\n",
       "      <td>Endemic</td>\n",
       "      <td>19686</td>\n",
       "      <td>30.40</td>\n",
       "    </tr>\n",
       "    <tr>\n",
       "      <th>2</th>\n",
       "      <td>Introduced - eradicated</td>\n",
       "      <td>32</td>\n",
       "      <td>0.05</td>\n",
       "    </tr>\n",
       "    <tr>\n",
       "      <th>3</th>\n",
       "      <td>Introduced - established</td>\n",
       "      <td>17593</td>\n",
       "      <td>27.16</td>\n",
       "    </tr>\n",
       "    <tr>\n",
       "      <th>4</th>\n",
       "      <td>Introduced - intercepted</td>\n",
       "      <td>31</td>\n",
       "      <td>0.05</td>\n",
       "    </tr>\n",
       "    <tr>\n",
       "      <th>5</th>\n",
       "      <td>Migrant</td>\n",
       "      <td>52</td>\n",
       "      <td>0.08</td>\n",
       "    </tr>\n",
       "    <tr>\n",
       "      <th>6</th>\n",
       "      <td>Native</td>\n",
       "      <td>23889</td>\n",
       "      <td>36.89</td>\n",
       "    </tr>\n",
       "    <tr>\n",
       "      <th>7</th>\n",
       "      <td>No data</td>\n",
       "      <td>1384</td>\n",
       "      <td>2.14</td>\n",
       "    </tr>\n",
       "    <tr>\n",
       "      <th>8</th>\n",
       "      <td>Vagrant</td>\n",
       "      <td>37</td>\n",
       "      <td>0.06</td>\n",
       "    </tr>\n",
       "  </tbody>\n",
       "</table>\n",
       "</div>"
      ],
      "text/plain": [
       "                     Origin  Num_Records  Porcentage\n",
       "0               Cryptogenic         2061        3.18\n",
       "1                   Endemic        19686       30.40\n",
       "2   Introduced - eradicated           32        0.05\n",
       "3  Introduced - established        17593       27.16\n",
       "4  Introduced - intercepted           31        0.05\n",
       "5                   Migrant           52        0.08\n",
       "6                    Native        23889       36.89\n",
       "7                   No data         1384        2.14\n",
       "8                   Vagrant           37        0.06"
      ]
     },
     "execution_count": 135,
     "metadata": {},
     "output_type": "execute_result"
    }
   ],
   "source": [
    "Orig = pd.DataFrame(df.groupby(['Origin']).size())\n",
    "Orig['Porcentage'] = (Orig.apply(lambda x:  100*x / x.sum())).round(2)\n",
    "#  Orig['Proportion'] = ((Orig[0]*100)/df.shape[0]).round(1)  -  Diff. way\n",
    "Orig.columns.values[0] = \"Num_Records\"\n",
    "Orig.reset_index(inplace = True)\n",
    "Orig"
   ]
  },
  {
   "cell_type": "markdown",
   "id": "9171ad4b",
   "metadata": {},
   "source": [
    "## Figure for Porcentage of Families for each Collection"
   ]
  },
  {
   "cell_type": "code",
   "execution_count": 133,
   "id": "89530ed2",
   "metadata": {},
   "outputs": [
    {
     "name": "stdout",
     "output_type": "stream",
     "text": [
      "This is the format of your plot grid:\n",
      "[ (1,1)  ]  [ (1,2)  ]\n",
      "[ (2,1)  ]  [ (2,2)  ]\n",
      "\n"
     ]
    },
    {
     "data": {
      "application/vnd.plotly.v1+json": {
       "config": {
        "plotlyServerURL": "https://plot.ly"
       },
       "data": [
        {
         "domain": {
          "x": [
           0,
           0.45
          ],
          "y": [
           0.625,
           1
          ]
         },
         "labels": [
          "Acanthaceae",
          "Acarosporaceae",
          "Agavaceae",
          "Agyriaceae",
          "Ahnfeltiaceae",
          "Aizoaceae",
          "Amaranthaceae",
          "Amaryllidaceae",
          "Anacardiaceae",
          "Annonaceae",
          "Anthericaceae",
          "Apiaceae",
          "Apocynaceae",
          "Araceae",
          "Araliaceae",
          "Araucariaceae",
          "Arcyriaceae",
          "Arecaceae",
          "Aristolochiaceae",
          "Arthoniaceae",
          "Arthopyreniaceae",
          "Asparagaceae",
          "Asphodelaceae",
          "Aspidotheliaceae",
          "Aspleniaceae",
          "Asteliaceae",
          "Asteraceae",
          "Asterothyriaceae",
          "Auriculariaceae",
          "Auriscalpiaceae",
          "Balanophoraceae",
          "Balsaminaceae",
          "Bartramiaceae",
          "Basellaceae",
          "Bataceae",
          "Begoniaceae",
          "Biatorellaceae",
          "Bignoniaceae",
          "Bixaceae",
          "Blechnaceae",
          "Bonnemaisoniaceae",
          "Boraginaceae",
          "Botryosphaeriaceae",
          "Brachybasidiaceae",
          "Brachytheciaceae",
          "Brassicaceae",
          "Brigantiaeaceae",
          "Bromeliaceae",
          "Bryaceae",
          "Bryopsidaceae",
          "Burseraceae",
          "Cactaceae",
          "Caesalpinaceae",
          "Calceolariaceae",
          "Callicostaceae",
          "Callithamniaceae",
          "Callitrichaceae",
          "Calophyllaceae",
          "Calymperaceae",
          "Calypogeiaceae",
          "Campanulaceae",
          "Candelariaceae",
          "Cannabaceae",
          "Cannaceae",
          "Caprifoliaceae",
          "Caricaceae",
          "Caryophyllaceae",
          "Casuarinaceae",
          "Catillariaceae",
          "Caulacanthaceae",
          "Caulerpaceae",
          "Celastraceae",
          "Celotheliaceae",
          "Ceramiaceae",
          "Ceratophyllaceae",
          "Chaconiaceae",
          "Chrysotrichaceae",
          "Cladoniaceae",
          "Cladophoraceae",
          "Cleomaceae",
          "Clusiaceae",
          "Coccocarpiaceae",
          "Codiaceae",
          "Coenogoniaceae",
          "Collemataceae",
          "Combretaceae",
          "Commelinaceae",
          "Convolvulaceae",
          "Corallinaceae",
          "Cordycipitaceae",
          "Crassulaceae",
          "Cryphaeaceae",
          "Cucurbitaceae",
          "Cupressaceae",
          "Cyatheaceae",
          "Cycadaceae",
          "Cyclanthaceae",
          "Cyperaceae",
          "Cystocloniaceae",
          "Daltoniaceae",
          "Dasyaceae",
          "Davalliaceae",
          "Delesseriaceae",
          "Dennstaedtiaceae",
          "Desmarestiaceae",
          "Dicranaceae",
          "Dictyotaceae",
          "Dilleniaceae",
          "Dioscoreaceae",
          "Dothideaceae",
          "Dryopteridaceae",
          "Equisetaceae",
          "Ericaceae",
          "Erysiphaceae",
          "Euphorbiaceae",
          "Fabaceae",
          "Faucheaceae",
          "Fissidentaceae",
          "Fragilariaceae",
          "Frullaniaceae",
          "Funariaceae",
          "Galaxauraceae",
          "Geastraceae",
          "Gelidiaceae",
          "Geraniaceae",
          "Gesneriaceae",
          "Gigartinaceae",
          "Gleicheniaceae",
          "Gloeophyllaceae",
          "Glomerellaceae",
          "Gomphillaceae",
          "Goodeniaceae",
          "Gracilariaceae",
          "Graphidaceae",
          "Gyalectaceae",
          "Haematommataceae",
          "Haemodoraceae",
          "Halymeniaceae",
          "Heliconiaceae",
          "Hydnodontaceae",
          "Hydrangeaceae",
          "Hydrocharitaceae",
          "Hygrophoraceae",
          "Hymenochaetaceae",
          "Hymenophyllaceae",
          "Hyphodontiaceae",
          "Hypoxidaceae",
          "Icmadophilaceae",
          "Incertae sedis",
          "Inocybaceae",
          "Iridaceae",
          "Jubulaceae",
          "Juglandaceae",
          "Kallymeniaceae",
          "Lachnocladiaceae",
          "Lamiaceae",
          "Lauraceae",
          "Lecanoraceae",
          "Lejeuneaceae",
          "Leptolyngbyaceae",
          "Lessoniaceae",
          "Leucobryaceae",
          "Lichinaceae",
          "Liliaceae",
          "Linaceae",
          "Linderniaceae",
          "Lithophyllaceae",
          "Lithothamniaceae",
          "Loasaceae",
          "Lobariaceae",
          "Lycopodiaceae",
          "Lythraceae",
          "Malpighiaceae",
          "Malvaceae",
          "Marantaceae",
          "Marasmiaceae",
          "Massalongiaceae",
          "Megalosporaceae",
          "Melastomataceae",
          "Meliaceae",
          "Menispermaceae",
          "Meruliaceae",
          "Meteoriaceae",
          "Metzgeriaceae",
          "Mimosaceae",
          "Molluginaceae",
          "Monoblastiaceae",
          "Montiaceae",
          "Moraceae",
          "Moringaceae",
          "Muntingiaceae",
          "Musaceae",
          "Mycenaceae",
          "Mycocaliciaceae",
          "Mycoporaceae",
          "Mycosphaerellaceae",
          "Myrtaceae",
          "Noctuidae",
          "Nyctaginaceae",
          "Ochrolechiaceae",
          "Oleaceae",
          "Onagraceae",
          "Ophioglossaceae",
          "Orchidaceae",
          "Orobanchaceae",
          "Orthotrichaceae",
          "Oxalidaceae",
          "Pallaviciniaceae",
          "Pandanaceae",
          "Pannariaceae",
          "Papaveraceae",
          "Parmeliaceae",
          "Passifloraceae",
          "Pedaliaceae",
          "Peltigeraceae",
          "Peltulaceae",
          "Peniophoraceae",
          "Pennariidae",
          "Pertusariaceae",
          "Phakopsoraceae",
          "Phallaceae",
          "Phanerochaetaceae",
          "Phyllachoraceae",
          "Phyllanthaceae",
          "Phyllophoraceae",
          "Physaraceae",
          "Physciaceae (= Caliciaceae)",
          "Phytolaccaceae",
          "Pilocarpaceae",
          "Pinaceae",
          "Piperaceae",
          "Plagiochilaceae",
          "Plantaginaceae",
          "Pleurotaceae",
          "Plocamiaceae",
          "Plumbaginaceae",
          "Pluteaceae",
          "Poaceae",
          "Polemoniaceae",
          "Polygalaceae",
          "Polygonaceae",
          "Polypodiaceae",
          "Polyporaceae",
          "Porinaceae",
          "Porolithaceae",
          "Portulacaceae",
          "Potamogetonaceae",
          "Pottiaceae",
          "Proteaceae",
          "Psilotaceae",
          "Pteridaceae",
          "Pterobryaceae",
          "Pterocladiaceae",
          "Pucciniaceae",
          "Pyrenotrichaceae",
          "Pyrenulaceae",
          "Pyronemataceae",
          "Racopilaceae",
          "Ramalinaceae",
          "Ranunculaceae",
          "Requienellaceae",
          "Rhamnaceae",
          "Rhizophoraceae",
          "Rhizophyllidaceae",
          "Rhodomelaceae",
          "Rhodymeniaceae",
          "Ricciaceae",
          "Rickenellaceae",
          "Roccellaceae",
          "Roccellographaceae",
          "Rosaceae",
          "Rubiaceae",
          "Rutaceae",
          "Salicaceae",
          "Salviniaceae",
          "Santalaceae",
          "Sapindaceae",
          "Sapotaceae",
          "Sargassaceae",
          "Schizophoraceae",
          "Schizothyriaceae",
          "Schizymeniaceae",
          "Scinaiaceae",
          "Scrophulariaceae",
          "Scytosiphonaceae",
          "Selaginellaceae",
          "Sematophyllaceae",
          "Simaroubaceae",
          "Solanaceae",
          "Solieriaceae",
          "Sphagnaceae",
          "Sphinctrinaceae",
          "Sporochnaceae",
          "Sporolithaceae",
          "Sterculiaceae",
          "Stereaceae",
          "Stereocaulaceae",
          "Stereophyllaceae",
          "Stictidaceae",
          "Strelitziaceae",
          "Strigulaceae",
          "Strophariaceae",
          "Talinaceae",
          "Targioniaceae",
          "Teloschistaceae",
          "Tephromelataceae",
          "Tetrachondraceae",
          "Thelenellaceae",
          "Thelypteridaceae",
          "Thuidiaceae",
          "Tremellaceae",
          "Tropaeolaceae",
          "Trypetheliaceae",
          "Tubeufiaceae",
          "Turneraceae",
          "Udoteaceae",
          "Ulvaceae",
          "Urticaceae",
          "Verbenaceae",
          "Verrucariaceae",
          "Viburnaceae",
          "Violaceae",
          "Vitaceae",
          "Wrangeliaceae",
          "Xenasmataceae",
          "Xylariaceae",
          "Zingiberaceae",
          "Zygophyllaceae"
         ],
         "showlegend": false,
         "textinfo": "label+percent",
         "textposition": "inside",
         "type": "pie",
         "values": [
          255,
          35,
          40,
          23,
          5,
          144,
          847,
          73,
          35,
          47,
          9,
          91,
          220,
          130,
          66,
          2,
          1,
          43,
          11,
          506,
          36,
          59,
          16,
          5,
          87,
          9,
          2065,
          6,
          11,
          4,
          1,
          70,
          20,
          23,
          17,
          25,
          4,
          22,
          16,
          34,
          12,
          1119,
          1,
          1,
          1,
          120,
          47,
          37,
          18,
          10,
          256,
          592,
          281,
          3,
          4,
          3,
          1,
          1,
          20,
          1,
          25,
          17,
          28,
          38,
          34,
          16,
          52,
          11,
          7,
          3,
          38,
          130,
          1,
          2,
          1,
          1,
          74,
          336,
          19,
          70,
          28,
          135,
          5,
          65,
          358,
          104,
          107,
          618,
          15,
          4,
          59,
          9,
          149,
          33,
          7,
          4,
          10,
          519,
          34,
          6,
          4,
          81,
          9,
          32,
          4,
          41,
          96,
          7,
          1,
          1,
          115,
          5,
          22,
          2,
          1149,
          1346,
          2,
          1,
          1,
          4,
          1,
          3,
          2,
          25,
          17,
          24,
          7,
          2,
          1,
          1,
          133,
          12,
          14,
          728,
          2,
          56,
          1,
          28,
          4,
          15,
          5,
          2,
          8,
          32,
          8,
          7,
          17,
          4,
          17,
          8,
          41,
          16,
          14,
          20,
          5,
          358,
          20,
          467,
          111,
          1,
          22,
          14,
          18,
          10,
          9,
          3,
          27,
          1,
          168,
          122,
          52,
          70,
          20,
          919,
          21,
          33,
          5,
          5,
          31,
          57,
          30,
          5,
          76,
          6,
          182,
          174,
          39,
          52,
          44,
          1,
          9,
          33,
          1,
          17,
          18,
          17,
          453,
          1,
          279,
          21,
          9,
          45,
          4,
          98,
          5,
          43,
          137,
          3,
          9,
          30,
          5,
          1477,
          302,
          1,
          9,
          42,
          1,
          1,
          293,
          1,
          3,
          13,
          7,
          70,
          14,
          1,
          1519,
          17,
          353,
          4,
          133,
          1,
          203,
          16,
          9,
          77,
          2,
          1747,
          2,
          63,
          79,
          144,
          72,
          52,
          7,
          127,
          4,
          17,
          4,
          12,
          212,
          2,
          14,
          3,
          3,
          349,
          2,
          20,
          1077,
          10,
          1,
          87,
          43,
          14,
          14,
          17,
          1,
          2,
          1122,
          76,
          126,
          421,
          145,
          9,
          12,
          58,
          90,
          22,
          44,
          3,
          2,
          1,
          14,
          80,
          2,
          2,
          27,
          132,
          838,
          7,
          9,
          8,
          11,
          1,
          8,
          1,
          161,
          7,
          2,
          2,
          24,
          1,
          19,
          6,
          374,
          17,
          1,
          21,
          151,
          2,
          6,
          11,
          175,
          2,
          6,
          1,
          26,
          135,
          497,
          67,
          2,
          6,
          51,
          3,
          6,
          6,
          36,
          108
         ]
        },
        {
         "domain": {
          "x": [
           0.55,
           1
          ],
          "y": [
           0.625,
           1
          ]
         },
         "labels": [
          "Achatinellidae",
          "Acrididae",
          "Acrolepiidae",
          "Aeolothripidae",
          "Aeshnidae",
          "Agromyzidae",
          "Aleyrodidae",
          "Alydidae",
          "Ammotrechidae",
          "Anisolabididae",
          "Anobiidae",
          "Anthocoridae",
          "Anthribidae",
          "Anyphaenidae",
          "Apidae",
          "Araneidae",
          "Archipsocidae",
          "Arctiidae",
          "Argasidae",
          "Armadillidae",
          "Asteiidae",
          "Autostichidae",
          "Berytidae",
          "Blaberidae",
          "Blastobasidae",
          "Blattellidae",
          "Blattidae",
          "Bombyliidae",
          "Bostrichidae",
          "Brentidae",
          "Bruchidae",
          "Bucculatricidae",
          "Buthidae",
          "Caeciliidae",
          "Calliphoridae",
          "Canacidae",
          "Cantharidae",
          "Carabidae",
          "Caraboctonidae",
          "Carcinophoridae",
          "Cecidomyiidae",
          "Cerambycidae",
          "Ceratopogonidae",
          "Chalcididae",
          "Charontidae",
          "Chironomidae",
          "Chloropidae",
          "Choreutidae",
          "Chrysomelidae",
          "Chrysopidae",
          "Chyromyidae",
          "Cicadellidae",
          "Ciidae",
          "Cixiidae",
          "Cleridae",
          "Coccidae",
          "Coccinellidae",
          "Coenagrionidae",
          "Coleophoridae",
          "Coreidae",
          "Corinnidae",
          "Corixidae",
          "Cosmopterigidae",
          "Culicidae",
          "Curculionidae",
          "Cydnidae",
          "Cyphoderidae",
          "Delphacidae",
          "Dermestidae",
          "Diaspididae",
          "Dictynidae",
          "Discolomatidae",
          "Dolichopodidae",
          "Drosophilidae",
          "Dytiscidae",
          "Ectopsocidae",
          "Elachistidae",
          "Elateridae",
          "Elenchidae",
          "Endomychidae",
          "Entomobryidae",
          "Ephydridae",
          "Epipsocidae",
          "Erebidae",
          "Eriococcidae",
          "Euconulidae",
          "Eumenidae",
          "Euxestidae",
          "Fanniidae",
          "Filistatidae",
          "Formicidae",
          "Gelechiidae",
          "Geometridae",
          "Geophilidae",
          "Gerridae",
          "Gnaphosidae",
          "Gracillariidae",
          "Gryllidae",
          "Gyrinidae",
          "Haliplidae",
          "Haplodesmidae",
          "Heleomyzidae",
          "Helicinidae",
          "Heliodinidae",
          "Hemerobiidae",
          "Henicopidae",
          "Hippoboscidae",
          "Histeridae",
          "Hubbardiidae",
          "Hybotidae",
          "Hydrophilidae",
          "Hypogastruridae",
          "Ichneumonidae",
          "Isotomidae",
          "Issidae",
          "Ixodidae",
          "Kalotermitidae",
          "Lachesillidae",
          "Laemophloeidae",
          "Latridiidae",
          "Lepidopsocidae",
          "Lepismatidae",
          "Libellulidae",
          "Limoniidae",
          "Linyphiidae",
          "Lycaenidae",
          "Lycosidae",
          "Lygaeidae",
          "Margarodidae",
          "Megascolecidae",
          "Meloidae",
          "Melyridae",
          "Merothripidae",
          "Mesovellidae",
          "Milichiidae",
          "Miridae",
          "Monotomidae",
          "Mordellidae",
          "Muscidae",
          "Mycetophagidae",
          "Myopsocidae",
          "Myrmeleontidae",
          "Mysmenidae",
          "Mythicomyiidae",
          "Nabidae",
          "Neanuridae",
          "Nesticidae",
          "Nitidulidae",
          "Noctuidae",
          "Nolidae",
          "Nymphalidae",
          "Ochyroceratidae",
          "Odiniidae",
          "Oecobiidae",
          "Oedemeridae",
          "Oligotomidae",
          "Onychiuridae",
          "Oonopidae",
          "Opostegidae",
          "Orthalicidae",
          "Ortheziidae",
          "Oryidae",
          "Oxychilidae",
          "Oxyopidae",
          "Paradoxosomatidae",
          "Pentatomidae",
          "Peripsocidae",
          "Phalacridae",
          "Philosciidae",
          "Philotarsidae",
          "Phlaeothripidae",
          "Pholcidae",
          "Phoridae",
          "Pieridae",
          "Pipunculidae",
          "Pleidae",
          "Polyphagidae",
          "Porcellionidae",
          "Prodidomidae",
          "Pseudocaeciliidae",
          "Pseudococcidae",
          "Psocidae",
          "Pteromalidae",
          "Pterophoridae",
          "Ptiliidae",
          "Ptinidae",
          "Pyralidae",
          "Pyrgodesmidae",
          "Reduviidae",
          "Rhopalidae",
          "Rhyparochromidae",
          "Rhyscotidae",
          "Ripiphoridae",
          "Saldidae",
          "Salticidae",
          "Sarcophagidae",
          "Scarabaeidae",
          "Scatopsidae",
          "Scenopinidae",
          "Schendylidae",
          "Sciaridae",
          "Scolodontidae",
          "Scolopendridae",
          "Scolopocryptopidae",
          "Scutigerellidae",
          "Scytodidae",
          "Segestriidae",
          "Selenopidae",
          "Sepsidae",
          "Sicariidae",
          "Silvanidae",
          "Simuliidae",
          "Sparassidae",
          "Sphaeroceridae",
          "Sphecidae",
          "Sphingidae",
          "Spirostreptidae",
          "Spongiphoridae",
          "Staphylinidae",
          "Stratiomyidae",
          "Subulinidae",
          "Succineidae",
          "Syrphidae",
          "Tabanidae",
          "Tachinidae",
          "Tenebrionidae",
          "Tephritidae",
          "Tetragnathidae",
          "Tettigoniidae",
          "Theridiidae",
          "Thespidae",
          "Thomisidae",
          "Thripidae",
          "Tineidae",
          "Tingidae",
          "Tischeriidae",
          "Tortricidae",
          "Tripiduchidae",
          "Trogidae",
          "Trogossitidae",
          "Tylidae",
          "Ulidiidae",
          "Uloboridae",
          "Uraniidae",
          "Veliidae",
          "Veronicellidae",
          "Vertiginidae",
          "Vespidae",
          "Yponomeutidae",
          "Zonitidae",
          "Zopheridae",
          "Zoridae"
         ],
         "showlegend": false,
         "textinfo": "label+percent",
         "textposition": "inside",
         "type": "pie",
         "values": [
          21,
          121,
          6,
          2,
          12,
          96,
          5,
          20,
          23,
          143,
          70,
          33,
          67,
          31,
          71,
          76,
          1,
          41,
          16,
          97,
          29,
          60,
          25,
          126,
          29,
          468,
          62,
          64,
          73,
          5,
          31,
          8,
          25,
          1,
          120,
          7,
          13,
          361,
          173,
          10,
          2,
          161,
          148,
          81,
          1,
          7,
          83,
          21,
          262,
          88,
          2,
          200,
          10,
          13,
          64,
          39,
          419,
          13,
          8,
          17,
          12,
          37,
          93,
          52,
          783,
          85,
          24,
          88,
          19,
          39,
          5,
          4,
          248,
          410,
          124,
          3,
          30,
          324,
          4,
          6,
          96,
          8,
          4,
          169,
          4,
          3,
          12,
          4,
          40,
          1,
          5591,
          80,
          186,
          10,
          14,
          42,
          54,
          584,
          11,
          1,
          1,
          62,
          26,
          7,
          34,
          1,
          2,
          30,
          5,
          2,
          434,
          118,
          23,
          18,
          1,
          13,
          4,
          3,
          11,
          3,
          29,
          4,
          16,
          44,
          47,
          45,
          23,
          362,
          20,
          1,
          8,
          2,
          1,
          13,
          10,
          301,
          14,
          34,
          673,
          9,
          2,
          34,
          11,
          25,
          90,
          3,
          20,
          267,
          1542,
          4,
          12,
          2,
          15,
          11,
          124,
          9,
          2,
          8,
          4,
          181,
          19,
          3,
          15,
          9,
          201,
          134,
          19,
          64,
          129,
          3,
          15,
          8,
          62,
          1,
          44,
          26,
          5,
          138,
          15,
          5,
          24,
          1,
          2,
          254,
          3,
          42,
          539,
          45,
          69,
          73,
          29,
          1,
          9,
          15,
          46,
          486,
          119,
          1,
          2,
          4,
          17,
          10,
          22,
          8,
          2,
          12,
          4,
          4,
          103,
          3,
          26,
          17,
          29,
          11,
          3,
          1,
          99,
          33,
          336,
          47,
          49,
          1,
          161,
          5,
          35,
          1380,
          127,
          17,
          124,
          53,
          39,
          3,
          1,
          4,
          99,
          10,
          73,
          1,
          34,
          18,
          2,
          187,
          2,
          4,
          4,
          20,
          76,
          193,
          31,
          1,
          16,
          6
         ]
        },
        {
         "domain": {
          "x": [
           0,
           0.45
          ],
          "y": [
           0,
           0.375
          ]
         },
         "labels": [
          "Acanthochitonidae",
          "Acanthuridae",
          "Acartiidae",
          "Acidopsidae",
          "Actiniidae",
          "Aeolidiidae",
          "Aethridae",
          "Agariciidae",
          "Aglajidae",
          "Aglaopheniidae",
          "Alosidae",
          "Alpheidae",
          "Alvinellidae",
          "Ammotheidae",
          "Amphinomidae",
          "Amphipleuraceae",
          "Amphoriscidae",
          "Andvakiidae",
          "Antennariidae",
          "Antipathidae",
          "Antroporidae",
          "Aplysiidae",
          "Aplysinellidae",
          "Apogonidae",
          "Architectonicidae",
          "Arcidae",
          "Arhynchobatidae",
          "Ascidiidae",
          "Assimineidae",
          "Asteriidae",
          "Asterinidae",
          "Asterodiscididae",
          "Asteropseidae",
          "Astrangiidae",
          "Astropectinidae",
          "Atyidae",
          "Aulostomidae",
          "Axiidae",
          "Axinellidae",
          "Balanidae",
          "Balistidae",
          "Barleeiidae",
          "Batillariidae",
          "Bitectiporidae",
          "Blenniidae",
          "Borsoniidae",
          "Bothidae",
          "Botrucnidiferidae",
          "Brisingidae",
          "Bryopsidaceae",
          "Bubaridae",
          "Bucephalidae",
          "Bugulidae",
          "Bullidae",
          "Bursidae",
          "Bythitidae",
          "Bythograeidae",
          "Calanidae",
          "Calappidae",
          "Callianideidae",
          "Calliostomatidae",
          "Callistoplacidae",
          "Calloporidae",
          "Calyptraeidae",
          "Campanulariidae",
          "Cancellariidae",
          "Candidae",
          "Capulidae",
          "Caraboctonidae",
          "Carangidae",
          "Cardiidae",
          "Carditidae",
          "Caryophylliidae",
          "Cassidae",
          "Cassidulidae",
          "Caulerpaceae",
          "Celleporidae",
          "Centropomidae",
          "Cerithiidae",
          "Cerithiopsidae",
          "Chaenopsidae",
          "Chaetodontidae",
          "Chaetopteridae",
          "Chalinidae",
          "Chamidae",
          "Chanidae",
          "Charoniidae",
          "Chirostylidae",
          "Chitonidae",
          "Chondrillidae",
          "Chromodorididae",
          "Cichlidae",
          "Cidaridae",
          "Cirrhitidae",
          "Clathrinidae",
          "Cleidochasmatidae",
          "Clionaidae",
          "Clypeasteridae",
          "Coenobitidae",
          "Colatooeciidae",
          "Colubrariidae",
          "Columbellidae",
          "Condylocardiidae",
          "Congridae",
          "Conidae",
          "Coryphaenidae",
          "Cribrilinidae",
          "Crisiidae",
          "Cryptochiridae",
          "Cyclodorippidae",
          "Cymatiidae",
          "Cypraeidae",
          "Cystiscidae",
          "Dactyloscopidae",
          "Dairidae",
          "Darwinellidae",
          "Deimatidae",
          "Dendrodorididae",
          "Dendrophylliidae",
          "Desmacellidae",
          "Diadematidae",
          "Diadesmidaceae",
          "Diclidophoridae",
          "Dictyonellidae",
          "Dictyotaceae",
          "Didemnidae",
          "Diodontidae",
          "Diogenidae",
          "Discodorididae",
          "Domeciidae",
          "Dorosomatidae",
          "Drilliidae",
          "Dromiidae",
          "Dynomenidae",
          "Echeneidae",
          "Echinometridae",
          "Echinophallidae",
          "Elapidae",
          "Eleotridae",
          "Ellobiidae",
          "Elopidae",
          "Engraulidae",
          "Entomoneidaceae",
          "Ephippidae",
          "Epialtidae",
          "Epitoniidae",
          "Eratoidae",
          "Eriphiidae",
          "Ethusidae",
          "Eudendriidae",
          "Eulimidae",
          "Eumunididae",
          "Eunotiaceae",
          "Euphausiidae",
          "Euretidae",
          "Exechonellidae",
          "Exocoetidae",
          "Fasciolariidae",
          "Fissurellidae",
          "Fistulariidae",
          "Fungiidae",
          "Galeommatidae",
          "Gecarcinidae",
          "Geodiidae",
          "Gerreidae",
          "Gigantoporidae",
          "Glycymerididae",
          "Gobiesocidae",
          "Gobiidae",
          "Gonodactylidae",
          "Gorgoniidae",
          "Granulinidae",
          "Grapsidae",
          "Haemulidae",
          "Haleciidae",
          "Halichondriidae",
          "Haliotidae",
          "Halopterididae",
          "Harpidae",
          "Heliasteridae",
          "Hemieuryalidae",
          "Hemiramphidae",
          "Hesionidae",
          "Hippidae",
          "Hippolytidae",
          "Hipponicidae",
          "Hippopodinidae",
          "Hirudinellidae",
          "Holocentridae",
          "Holothuriidae",
          "Hymedesmiidae",
          "Hymerhabdiidae",
          "Inachidae",
          "Inachoididae",
          "Ischnochitonidae",
          "Isognomonidae",
          "Kuhliidae",
          "Kyphosidae",
          "Labridae",
          "Labrisomidae",
          "Lepadidae",
          "Leptosomatidae",
          "Leucosiidae",
          "Lichenoporidae",
          "Ligiidae",
          "Limidae",
          "Litiopidae",
          "Littorinidae",
          "Lottiidae",
          "Loveniidae",
          "Lucinidae",
          "Luidiidae",
          "Lutjanidae",
          "Lysmatidae",
          "Mactridae",
          "Majidae",
          "Malacanthidae",
          "Malakichthyidae",
          "Mangeliidae",
          "Margaritidae",
          "Marginellidae",
          "Mellitidae",
          "Membraniporidae",
          "Menippidae",
          "Microcionidae",
          "Microporellidae",
          "Mithracidae",
          "Mithrodiidae",
          "Mitridae",
          "Modulidae",
          "Moridae",
          "Mugilidae",
          "Mullidae",
          "Munididae",
          "Munidopsidae",
          "Muraenidae",
          "Muricidae",
          "Mycalidae",
          "Myctophidae",
          "Myriopathidae",
          "Mytilidae",
          "Myxinidae",
          "Nassariidae",
          "Naticidae",
          "Neritidae",
          "Nettastomatidae",
          "Noetiidae",
          "Oceaniidae",
          "Octopodidae",
          "Oculinidae",
          "Ocypodidae",
          "Odontasteridae",
          "Ogcocephalidae",
          "Olividae",
          "Ommastrephidae",
          "Onchidiidae",
          "Onychoteuthidae",
          "Opecoelidae",
          "Ophiacanthidae",
          "Ophiactidae",
          "Ophichthidae",
          "Ophidiasteridae",
          "Ophidiidae",
          "Ophiocomidae",
          "Ophiodermatidae",
          "Ophionereididae",
          "Ophiothamnidae",
          "Ophiotomidae",
          "Ophiotrichidae",
          "Oreasteridae",
          "Ostreidae",
          "Ovulidae",
          "Oziidae",
          "Paguridae",
          "Palaemonidae",
          "Palicidae",
          "Palinuridae",
          "Panopeidae",
          "Paramuriceidae",
          "Parthenopidae",
          "Pectinidae",
          "Pediculariidae",
          "Penaeidae",
          "Pennariidae",
          "Pennatulidae",
          "Pentametrocrinidae",
          "Percnidae",
          "Peristediidae",
          "Petrosiidae",
          "Phascolosomatidae",
          "Phasianellidae",
          "Phidoloporidae",
          "Phoxichilidiidae",
          "Phyllodocidae",
          "Physaliidae",
          "Pilumnidae",
          "Pinnidae",
          "Pinnotheridae",
          "Pinnulariaceae",
          "Pisaniidae",
          "Plagusiidae",
          "Planaxidae",
          "Pleurobranchidae",
          "Plexauridae",
          "Plumulariidae",
          "Pocilloporidae",
          "Polyceridae",
          "Polyclinidae",
          "Polymastiidae",
          "Polynemidae",
          "Polynoidae",
          "Pomacanthidae",
          "Pomacentridae",
          "Porcellanidae",
          "Poritidae",
          "Porpitidae",
          "Portunidae",
          "Prenasteridae",
          "Primnoidae",
          "Psammobiidae",
          "Psammocoridae",
          "Pseudodiaptomidae",
          "Pseudomelatomidae",
          "Pseudorhombilidae",
          "Pseudosquillidae",
          "Pteriidae",
          "Pterosagittidae",
          "Pycnogonidae",
          "Pyramidellidae",
          "Pyroteuthidae",
          "Pyuridae",
          "Raninidae",
          "Raphitomidae",
          "Rhincalanidae",
          "Rhizangiidae",
          "Rhynchocinetidae",
          "Rissoinidae",
          "Sabellidae",
          "Savignyellidae",
          "Scaphandridae",
          "Scaridae",
          "Schizoporellidae",
          "Sciaenidae",
          "Sclerodactylidae",
          "Scombridae",
          "Scorpaenidae",
          "Scyllaridae",
          "Semelidae",
          "Sergestidae",
          "Serpulidae",
          "Serranidae",
          "Sertulariidae",
          "Siboglinidae",
          "Sicyoniidae",
          "Siphonariidae",
          "Smittinidae",
          "Solecurtidae",
          "Sparidae",
          "Sphyraenidae",
          "Spongiphoridae",
          "Stelligeridae",
          "Stercorariidae",
          "Sternoptychidae",
          "Sternostylidae",
          "Stichopodidae",
          "Strombidae",
          "Styelidae",
          "Stylasteridae",
          "Syllidae",
          "Synaptidae",
          "Syngnathidae",
          "Synodontidae",
          "Syrphidae",
          "Tedaniidae",
          "Tegulidae",
          "Tellinidae",
          "Telorchiidae",
          "Terebridae",
          "Tethyidae",
          "Tetillidae",
          "Tetraclitidae",
          "Tetraodontidae",
          "Thalassematidae",
          "Thorectidae",
          "Thoridae",
          "Thysanoteuthidae",
          "Tonnidae",
          "Tornatinidae",
          "Toxopneustidae",
          "Trapeziidae",
          "Trichiuridae",
          "Triglidae",
          "Triphoridae",
          "Tripterygiidae",
          "Triviidae",
          "Trypostegidae",
          "Tubulariidae",
          "Turritellidae",
          "Tylodinidae",
          "Ungulinidae",
          "Valenciniidae",
          "Veneridae",
          "Vermetidae",
          "Vesicomyidae",
          "Vesiculariidae",
          "Vulcanellidae",
          "Watersiporidae",
          "Xanthidae"
         ],
         "showlegend": false,
         "textinfo": "label+percent",
         "textposition": "inside",
         "type": "pie",
         "values": [
          8,
          1,
          1,
          4,
          22,
          3,
          4,
          60,
          6,
          13,
          3,
          129,
          3,
          4,
          5,
          1,
          1,
          10,
          5,
          8,
          4,
          15,
          2,
          8,
          1,
          69,
          1,
          1,
          1,
          4,
          2,
          1,
          1,
          8,
          5,
          5,
          1,
          6,
          1,
          77,
          3,
          5,
          1,
          1,
          14,
          1,
          1,
          1,
          1,
          1,
          1,
          1,
          33,
          41,
          4,
          3,
          1,
          3,
          7,
          1,
          8,
          1,
          2,
          16,
          20,
          11,
          2,
          1,
          1,
          21,
          26,
          17,
          22,
          25,
          6,
          2,
          48,
          1,
          59,
          9,
          3,
          4,
          6,
          12,
          20,
          1,
          1,
          5,
          18,
          4,
          6,
          1,
          20,
          1,
          2,
          1,
          5,
          7,
          5,
          1,
          12,
          141,
          2,
          59,
          125,
          2,
          2,
          1,
          2,
          1,
          38,
          67,
          5,
          3,
          8,
          3,
          1,
          6,
          84,
          2,
          2,
          2,
          1,
          2,
          1,
          72,
          1,
          35,
          3,
          4,
          8,
          15,
          1,
          16,
          1,
          12,
          1,
          1,
          8,
          18,
          1,
          6,
          1,
          1,
          52,
          19,
          3,
          14,
          2,
          2,
          2,
          1,
          3,
          9,
          1,
          2,
          15,
          61,
          71,
          2,
          11,
          11,
          2,
          4,
          15,
          4,
          1,
          7,
          20,
          17,
          15,
          4,
          17,
          36,
          1,
          2,
          3,
          2,
          7,
          2,
          4,
          8,
          2,
          13,
          11,
          57,
          14,
          4,
          7,
          104,
          14,
          2,
          11,
          18,
          2,
          24,
          1,
          7,
          12,
          27,
          8,
          4,
          10,
          3,
          1,
          10,
          19,
          32,
          24,
          3,
          29,
          8,
          6,
          16,
          1,
          1,
          5,
          1,
          3,
          13,
          14,
          3,
          4,
          2,
          1,
          2,
          78,
          3,
          50,
          6,
          3,
          35,
          2,
          2,
          3,
          25,
          170,
          25,
          4,
          11,
          39,
          9,
          59,
          20,
          26,
          3,
          17,
          2,
          1,
          5,
          27,
          1,
          7,
          13,
          4,
          15,
          4,
          1,
          5,
          11,
          7,
          21,
          4,
          16,
          7,
          12,
          1,
          1,
          27,
          12,
          8,
          3,
          37,
          20,
          66,
          2,
          2,
          6,
          4,
          13,
          16,
          6,
          24,
          17,
          3,
          1,
          5,
          1,
          3,
          2,
          3,
          3,
          1,
          3,
          3,
          3,
          5,
          4,
          1,
          62,
          7,
          16,
          4,
          6,
          4,
          27,
          3,
          42,
          4,
          2,
          3,
          3,
          28,
          60,
          5,
          1,
          35,
          11,
          2,
          2,
          14,
          1,
          5,
          23,
          5,
          2,
          8,
          5,
          1,
          4,
          8,
          1,
          4,
          1,
          24,
          9,
          19,
          13,
          24,
          3,
          4,
          35,
          3,
          6,
          8,
          14,
          7,
          17,
          1,
          18,
          50,
          8,
          1,
          7,
          10,
          2,
          5,
          9,
          1,
          1,
          4,
          1,
          1,
          1,
          9,
          4,
          84,
          12,
          2,
          1,
          7,
          2,
          1,
          5,
          34,
          19,
          1,
          43,
          5,
          2,
          3,
          9,
          6,
          1,
          2,
          4,
          2,
          1,
          10,
          15,
          2,
          1,
          4,
          2,
          23,
          1,
          6,
          3,
          2,
          9,
          2,
          41,
          7,
          1,
          30,
          1,
          11,
          172
         ]
        },
        {
         "domain": {
          "x": [
           0.55,
           1
          ],
          "y": [
           0,
           0.375
          ]
         },
         "labels": [
          "Accipitridae",
          "Anatidae",
          "Ardeidae",
          "Bufonidae",
          "Canidae",
          "Charadriidae",
          "Cheloniidae",
          "Columbidae",
          "Cricetidae",
          "Cuculidae",
          "Delphinidae",
          "Diomedeidae",
          "Dipsadidae",
          "Elapidae",
          "Equidae",
          "Felidae",
          "Fregatidae",
          "Gekkonidae",
          "Gymnophthalmidae",
          "Hirundinidae",
          "Hydrobatidae",
          "Hylidae",
          "Icteridae",
          "Iguanidae",
          "Laridae",
          "Mimidae",
          "Muridae",
          "Otariidae",
          "Parulidae",
          "Phaethontidae",
          "Phalacrocoracidae",
          "Phasianidae",
          "Procellariidae",
          "Rallidae",
          "Recurvirostridae",
          "Scincidae",
          "Scolopacidae",
          "Spheniscidae",
          "Strigidae",
          "Struthionidae",
          "Suidae",
          "Sulidae",
          "Testunidae",
          "Thraupidae",
          "Tropiduridae",
          "Tyrannidae",
          "Tytonidae",
          "Vespertilionidae",
          "Ziphiidae"
         ],
         "showlegend": false,
         "textinfo": "label+percent",
         "textposition": "inside",
         "type": "pie",
         "values": [
          8,
          3,
          33,
          1,
          4,
          1,
          41,
          40,
          46,
          44,
          20,
          10,
          44,
          11,
          1,
          6,
          12,
          57,
          1,
          3,
          18,
          52,
          1,
          105,
          22,
          28,
          71,
          242,
          58,
          14,
          14,
          23,
          42,
          20,
          2,
          1,
          9,
          17,
          10,
          1,
          1,
          39,
          50,
          229,
          12,
          15,
          15,
          12,
          3
         ]
        }
       ],
       "layout": {
        "annotations": [
         {
          "font": {
           "size": 16
          },
          "showarrow": false,
          "text": "CDS",
          "x": 0.225,
          "xanchor": "center",
          "xref": "paper",
          "y": 1,
          "yanchor": "bottom",
          "yref": "paper"
         },
         {
          "font": {
           "size": 16
          },
          "showarrow": false,
          "text": "ICCDRS",
          "x": 0.775,
          "xanchor": "center",
          "xref": "paper",
          "y": 1,
          "yanchor": "bottom",
          "yref": "paper"
         },
         {
          "font": {
           "size": 16
          },
          "showarrow": false,
          "text": "MCCDRS",
          "x": 0.225,
          "xanchor": "center",
          "xref": "paper",
          "y": 0.375,
          "yanchor": "bottom",
          "yref": "paper"
         },
         {
          "font": {
           "size": 16
          },
          "showarrow": false,
          "text": "VCCDRS",
          "x": 0.775,
          "xanchor": "center",
          "xref": "paper",
          "y": 0.375,
          "yanchor": "bottom",
          "yref": "paper"
         }
        ],
        "template": {
         "data": {
          "bar": [
           {
            "error_x": {
             "color": "#2a3f5f"
            },
            "error_y": {
             "color": "#2a3f5f"
            },
            "marker": {
             "line": {
              "color": "#E5ECF6",
              "width": 0.5
             },
             "pattern": {
              "fillmode": "overlay",
              "size": 10,
              "solidity": 0.2
             }
            },
            "type": "bar"
           }
          ],
          "barpolar": [
           {
            "marker": {
             "line": {
              "color": "#E5ECF6",
              "width": 0.5
             },
             "pattern": {
              "fillmode": "overlay",
              "size": 10,
              "solidity": 0.2
             }
            },
            "type": "barpolar"
           }
          ],
          "carpet": [
           {
            "aaxis": {
             "endlinecolor": "#2a3f5f",
             "gridcolor": "white",
             "linecolor": "white",
             "minorgridcolor": "white",
             "startlinecolor": "#2a3f5f"
            },
            "baxis": {
             "endlinecolor": "#2a3f5f",
             "gridcolor": "white",
             "linecolor": "white",
             "minorgridcolor": "white",
             "startlinecolor": "#2a3f5f"
            },
            "type": "carpet"
           }
          ],
          "choropleth": [
           {
            "colorbar": {
             "outlinewidth": 0,
             "ticks": ""
            },
            "type": "choropleth"
           }
          ],
          "contour": [
           {
            "colorbar": {
             "outlinewidth": 0,
             "ticks": ""
            },
            "colorscale": [
             [
              0,
              "#0d0887"
             ],
             [
              0.1111111111111111,
              "#46039f"
             ],
             [
              0.2222222222222222,
              "#7201a8"
             ],
             [
              0.3333333333333333,
              "#9c179e"
             ],
             [
              0.4444444444444444,
              "#bd3786"
             ],
             [
              0.5555555555555556,
              "#d8576b"
             ],
             [
              0.6666666666666666,
              "#ed7953"
             ],
             [
              0.7777777777777778,
              "#fb9f3a"
             ],
             [
              0.8888888888888888,
              "#fdca26"
             ],
             [
              1,
              "#f0f921"
             ]
            ],
            "type": "contour"
           }
          ],
          "contourcarpet": [
           {
            "colorbar": {
             "outlinewidth": 0,
             "ticks": ""
            },
            "type": "contourcarpet"
           }
          ],
          "heatmap": [
           {
            "colorbar": {
             "outlinewidth": 0,
             "ticks": ""
            },
            "colorscale": [
             [
              0,
              "#0d0887"
             ],
             [
              0.1111111111111111,
              "#46039f"
             ],
             [
              0.2222222222222222,
              "#7201a8"
             ],
             [
              0.3333333333333333,
              "#9c179e"
             ],
             [
              0.4444444444444444,
              "#bd3786"
             ],
             [
              0.5555555555555556,
              "#d8576b"
             ],
             [
              0.6666666666666666,
              "#ed7953"
             ],
             [
              0.7777777777777778,
              "#fb9f3a"
             ],
             [
              0.8888888888888888,
              "#fdca26"
             ],
             [
              1,
              "#f0f921"
             ]
            ],
            "type": "heatmap"
           }
          ],
          "heatmapgl": [
           {
            "colorbar": {
             "outlinewidth": 0,
             "ticks": ""
            },
            "colorscale": [
             [
              0,
              "#0d0887"
             ],
             [
              0.1111111111111111,
              "#46039f"
             ],
             [
              0.2222222222222222,
              "#7201a8"
             ],
             [
              0.3333333333333333,
              "#9c179e"
             ],
             [
              0.4444444444444444,
              "#bd3786"
             ],
             [
              0.5555555555555556,
              "#d8576b"
             ],
             [
              0.6666666666666666,
              "#ed7953"
             ],
             [
              0.7777777777777778,
              "#fb9f3a"
             ],
             [
              0.8888888888888888,
              "#fdca26"
             ],
             [
              1,
              "#f0f921"
             ]
            ],
            "type": "heatmapgl"
           }
          ],
          "histogram": [
           {
            "marker": {
             "pattern": {
              "fillmode": "overlay",
              "size": 10,
              "solidity": 0.2
             }
            },
            "type": "histogram"
           }
          ],
          "histogram2d": [
           {
            "colorbar": {
             "outlinewidth": 0,
             "ticks": ""
            },
            "colorscale": [
             [
              0,
              "#0d0887"
             ],
             [
              0.1111111111111111,
              "#46039f"
             ],
             [
              0.2222222222222222,
              "#7201a8"
             ],
             [
              0.3333333333333333,
              "#9c179e"
             ],
             [
              0.4444444444444444,
              "#bd3786"
             ],
             [
              0.5555555555555556,
              "#d8576b"
             ],
             [
              0.6666666666666666,
              "#ed7953"
             ],
             [
              0.7777777777777778,
              "#fb9f3a"
             ],
             [
              0.8888888888888888,
              "#fdca26"
             ],
             [
              1,
              "#f0f921"
             ]
            ],
            "type": "histogram2d"
           }
          ],
          "histogram2dcontour": [
           {
            "colorbar": {
             "outlinewidth": 0,
             "ticks": ""
            },
            "colorscale": [
             [
              0,
              "#0d0887"
             ],
             [
              0.1111111111111111,
              "#46039f"
             ],
             [
              0.2222222222222222,
              "#7201a8"
             ],
             [
              0.3333333333333333,
              "#9c179e"
             ],
             [
              0.4444444444444444,
              "#bd3786"
             ],
             [
              0.5555555555555556,
              "#d8576b"
             ],
             [
              0.6666666666666666,
              "#ed7953"
             ],
             [
              0.7777777777777778,
              "#fb9f3a"
             ],
             [
              0.8888888888888888,
              "#fdca26"
             ],
             [
              1,
              "#f0f921"
             ]
            ],
            "type": "histogram2dcontour"
           }
          ],
          "mesh3d": [
           {
            "colorbar": {
             "outlinewidth": 0,
             "ticks": ""
            },
            "type": "mesh3d"
           }
          ],
          "parcoords": [
           {
            "line": {
             "colorbar": {
              "outlinewidth": 0,
              "ticks": ""
             }
            },
            "type": "parcoords"
           }
          ],
          "pie": [
           {
            "automargin": true,
            "type": "pie"
           }
          ],
          "scatter": [
           {
            "fillpattern": {
             "fillmode": "overlay",
             "size": 10,
             "solidity": 0.2
            },
            "type": "scatter"
           }
          ],
          "scatter3d": [
           {
            "line": {
             "colorbar": {
              "outlinewidth": 0,
              "ticks": ""
             }
            },
            "marker": {
             "colorbar": {
              "outlinewidth": 0,
              "ticks": ""
             }
            },
            "type": "scatter3d"
           }
          ],
          "scattercarpet": [
           {
            "marker": {
             "colorbar": {
              "outlinewidth": 0,
              "ticks": ""
             }
            },
            "type": "scattercarpet"
           }
          ],
          "scattergeo": [
           {
            "marker": {
             "colorbar": {
              "outlinewidth": 0,
              "ticks": ""
             }
            },
            "type": "scattergeo"
           }
          ],
          "scattergl": [
           {
            "marker": {
             "colorbar": {
              "outlinewidth": 0,
              "ticks": ""
             }
            },
            "type": "scattergl"
           }
          ],
          "scattermapbox": [
           {
            "marker": {
             "colorbar": {
              "outlinewidth": 0,
              "ticks": ""
             }
            },
            "type": "scattermapbox"
           }
          ],
          "scatterpolar": [
           {
            "marker": {
             "colorbar": {
              "outlinewidth": 0,
              "ticks": ""
             }
            },
            "type": "scatterpolar"
           }
          ],
          "scatterpolargl": [
           {
            "marker": {
             "colorbar": {
              "outlinewidth": 0,
              "ticks": ""
             }
            },
            "type": "scatterpolargl"
           }
          ],
          "scatterternary": [
           {
            "marker": {
             "colorbar": {
              "outlinewidth": 0,
              "ticks": ""
             }
            },
            "type": "scatterternary"
           }
          ],
          "surface": [
           {
            "colorbar": {
             "outlinewidth": 0,
             "ticks": ""
            },
            "colorscale": [
             [
              0,
              "#0d0887"
             ],
             [
              0.1111111111111111,
              "#46039f"
             ],
             [
              0.2222222222222222,
              "#7201a8"
             ],
             [
              0.3333333333333333,
              "#9c179e"
             ],
             [
              0.4444444444444444,
              "#bd3786"
             ],
             [
              0.5555555555555556,
              "#d8576b"
             ],
             [
              0.6666666666666666,
              "#ed7953"
             ],
             [
              0.7777777777777778,
              "#fb9f3a"
             ],
             [
              0.8888888888888888,
              "#fdca26"
             ],
             [
              1,
              "#f0f921"
             ]
            ],
            "type": "surface"
           }
          ],
          "table": [
           {
            "cells": {
             "fill": {
              "color": "#EBF0F8"
             },
             "line": {
              "color": "white"
             }
            },
            "header": {
             "fill": {
              "color": "#C8D4E3"
             },
             "line": {
              "color": "white"
             }
            },
            "type": "table"
           }
          ]
         },
         "layout": {
          "annotationdefaults": {
           "arrowcolor": "#2a3f5f",
           "arrowhead": 0,
           "arrowwidth": 1
          },
          "autotypenumbers": "strict",
          "coloraxis": {
           "colorbar": {
            "outlinewidth": 0,
            "ticks": ""
           }
          },
          "colorscale": {
           "diverging": [
            [
             0,
             "#8e0152"
            ],
            [
             0.1,
             "#c51b7d"
            ],
            [
             0.2,
             "#de77ae"
            ],
            [
             0.3,
             "#f1b6da"
            ],
            [
             0.4,
             "#fde0ef"
            ],
            [
             0.5,
             "#f7f7f7"
            ],
            [
             0.6,
             "#e6f5d0"
            ],
            [
             0.7,
             "#b8e186"
            ],
            [
             0.8,
             "#7fbc41"
            ],
            [
             0.9,
             "#4d9221"
            ],
            [
             1,
             "#276419"
            ]
           ],
           "sequential": [
            [
             0,
             "#0d0887"
            ],
            [
             0.1111111111111111,
             "#46039f"
            ],
            [
             0.2222222222222222,
             "#7201a8"
            ],
            [
             0.3333333333333333,
             "#9c179e"
            ],
            [
             0.4444444444444444,
             "#bd3786"
            ],
            [
             0.5555555555555556,
             "#d8576b"
            ],
            [
             0.6666666666666666,
             "#ed7953"
            ],
            [
             0.7777777777777778,
             "#fb9f3a"
            ],
            [
             0.8888888888888888,
             "#fdca26"
            ],
            [
             1,
             "#f0f921"
            ]
           ],
           "sequentialminus": [
            [
             0,
             "#0d0887"
            ],
            [
             0.1111111111111111,
             "#46039f"
            ],
            [
             0.2222222222222222,
             "#7201a8"
            ],
            [
             0.3333333333333333,
             "#9c179e"
            ],
            [
             0.4444444444444444,
             "#bd3786"
            ],
            [
             0.5555555555555556,
             "#d8576b"
            ],
            [
             0.6666666666666666,
             "#ed7953"
            ],
            [
             0.7777777777777778,
             "#fb9f3a"
            ],
            [
             0.8888888888888888,
             "#fdca26"
            ],
            [
             1,
             "#f0f921"
            ]
           ]
          },
          "colorway": [
           "#636efa",
           "#EF553B",
           "#00cc96",
           "#ab63fa",
           "#FFA15A",
           "#19d3f3",
           "#FF6692",
           "#B6E880",
           "#FF97FF",
           "#FECB52"
          ],
          "font": {
           "color": "#2a3f5f"
          },
          "geo": {
           "bgcolor": "white",
           "lakecolor": "white",
           "landcolor": "#E5ECF6",
           "showlakes": true,
           "showland": true,
           "subunitcolor": "white"
          },
          "hoverlabel": {
           "align": "left"
          },
          "hovermode": "closest",
          "mapbox": {
           "style": "light"
          },
          "paper_bgcolor": "white",
          "plot_bgcolor": "#E5ECF6",
          "polar": {
           "angularaxis": {
            "gridcolor": "white",
            "linecolor": "white",
            "ticks": ""
           },
           "bgcolor": "#E5ECF6",
           "radialaxis": {
            "gridcolor": "white",
            "linecolor": "white",
            "ticks": ""
           }
          },
          "scene": {
           "xaxis": {
            "backgroundcolor": "#E5ECF6",
            "gridcolor": "white",
            "gridwidth": 2,
            "linecolor": "white",
            "showbackground": true,
            "ticks": "",
            "zerolinecolor": "white"
           },
           "yaxis": {
            "backgroundcolor": "#E5ECF6",
            "gridcolor": "white",
            "gridwidth": 2,
            "linecolor": "white",
            "showbackground": true,
            "ticks": "",
            "zerolinecolor": "white"
           },
           "zaxis": {
            "backgroundcolor": "#E5ECF6",
            "gridcolor": "white",
            "gridwidth": 2,
            "linecolor": "white",
            "showbackground": true,
            "ticks": "",
            "zerolinecolor": "white"
           }
          },
          "shapedefaults": {
           "line": {
            "color": "#2a3f5f"
           }
          },
          "ternary": {
           "aaxis": {
            "gridcolor": "white",
            "linecolor": "white",
            "ticks": ""
           },
           "baxis": {
            "gridcolor": "white",
            "linecolor": "white",
            "ticks": ""
           },
           "bgcolor": "#E5ECF6",
           "caxis": {
            "gridcolor": "white",
            "linecolor": "white",
            "ticks": ""
           }
          },
          "title": {
           "x": 0.05
          },
          "xaxis": {
           "automargin": true,
           "gridcolor": "white",
           "linecolor": "white",
           "ticks": "",
           "title": {
            "standoff": 15
           },
           "zerolinecolor": "white",
           "zerolinewidth": 2
          },
          "yaxis": {
           "automargin": true,
           "gridcolor": "white",
           "linecolor": "white",
           "ticks": "",
           "title": {
            "standoff": 15
           },
           "zerolinecolor": "white",
           "zerolinewidth": 2
          }
         }
        },
        "title": {
         "text": "Taxonomic Families by Collection",
         "x": 0.5
        }
       }
      },
      "text/html": [
       "<div>                            <div id=\"9dedac1e-e9f9-4b2f-8014-2aac0e956bee\" class=\"plotly-graph-div\" style=\"height:525px; width:100%;\"></div>            <script type=\"text/javascript\">                require([\"plotly\"], function(Plotly) {                    window.PLOTLYENV=window.PLOTLYENV || {};                                    if (document.getElementById(\"9dedac1e-e9f9-4b2f-8014-2aac0e956bee\")) {                    Plotly.newPlot(                        \"9dedac1e-e9f9-4b2f-8014-2aac0e956bee\",                        [{\"labels\":[\"Acanthaceae\",\"Acarosporaceae\",\"Agavaceae\",\"Agyriaceae\",\"Ahnfeltiaceae\",\"Aizoaceae\",\"Amaranthaceae\",\"Amaryllidaceae\",\"Anacardiaceae\",\"Annonaceae\",\"Anthericaceae\",\"Apiaceae\",\"Apocynaceae\",\"Araceae\",\"Araliaceae\",\"Araucariaceae\",\"Arcyriaceae\",\"Arecaceae\",\"Aristolochiaceae\",\"Arthoniaceae\",\"Arthopyreniaceae\",\"Asparagaceae\",\"Asphodelaceae\",\"Aspidotheliaceae\",\"Aspleniaceae\",\"Asteliaceae\",\"Asteraceae\",\"Asterothyriaceae\",\"Auriculariaceae\",\"Auriscalpiaceae\",\"Balanophoraceae\",\"Balsaminaceae\",\"Bartramiaceae\",\"Basellaceae\",\"Bataceae\",\"Begoniaceae\",\"Biatorellaceae\",\"Bignoniaceae\",\"Bixaceae\",\"Blechnaceae\",\"Bonnemaisoniaceae\",\"Boraginaceae\",\"Botryosphaeriaceae\",\"Brachybasidiaceae\",\"Brachytheciaceae\",\"Brassicaceae\",\"Brigantiaeaceae\",\"Bromeliaceae\",\"Bryaceae\",\"Bryopsidaceae\",\"Burseraceae\",\"Cactaceae\",\"Caesalpinaceae\",\"Calceolariaceae\",\"Callicostaceae\",\"Callithamniaceae\",\"Callitrichaceae\",\"Calophyllaceae\",\"Calymperaceae\",\"Calypogeiaceae\",\"Campanulaceae\",\"Candelariaceae\",\"Cannabaceae\",\"Cannaceae\",\"Caprifoliaceae\",\"Caricaceae\",\"Caryophyllaceae\",\"Casuarinaceae\",\"Catillariaceae\",\"Caulacanthaceae\",\"Caulerpaceae\",\"Celastraceae\",\"Celotheliaceae\",\"Ceramiaceae\",\"Ceratophyllaceae\",\"Chaconiaceae\",\"Chrysotrichaceae\",\"Cladoniaceae\",\"Cladophoraceae\",\"Cleomaceae\",\"Clusiaceae\",\"Coccocarpiaceae\",\"Codiaceae\",\"Coenogoniaceae\",\"Collemataceae\",\"Combretaceae\",\"Commelinaceae\",\"Convolvulaceae\",\"Corallinaceae\",\"Cordycipitaceae\",\"Crassulaceae\",\"Cryphaeaceae\",\"Cucurbitaceae\",\"Cupressaceae\",\"Cyatheaceae\",\"Cycadaceae\",\"Cyclanthaceae\",\"Cyperaceae\",\"Cystocloniaceae\",\"Daltoniaceae\",\"Dasyaceae\",\"Davalliaceae\",\"Delesseriaceae\",\"Dennstaedtiaceae\",\"Desmarestiaceae\",\"Dicranaceae\",\"Dictyotaceae\",\"Dilleniaceae\",\"Dioscoreaceae\",\"Dothideaceae\",\"Dryopteridaceae\",\"Equisetaceae\",\"Ericaceae\",\"Erysiphaceae\",\"Euphorbiaceae\",\"Fabaceae\",\"Faucheaceae\",\"Fissidentaceae\",\"Fragilariaceae\",\"Frullaniaceae\",\"Funariaceae\",\"Galaxauraceae\",\"Geastraceae\",\"Gelidiaceae\",\"Geraniaceae\",\"Gesneriaceae\",\"Gigartinaceae\",\"Gleicheniaceae\",\"Gloeophyllaceae\",\"Glomerellaceae\",\"Gomphillaceae\",\"Goodeniaceae\",\"Gracilariaceae\",\"Graphidaceae\",\"Gyalectaceae\",\"Haematommataceae\",\"Haemodoraceae\",\"Halymeniaceae\",\"Heliconiaceae\",\"Hydnodontaceae\",\"Hydrangeaceae\",\"Hydrocharitaceae\",\"Hygrophoraceae\",\"Hymenochaetaceae\",\"Hymenophyllaceae\",\"Hyphodontiaceae\",\"Hypoxidaceae\",\"Icmadophilaceae\",\"Incertae sedis\",\"Inocybaceae\",\"Iridaceae\",\"Jubulaceae\",\"Juglandaceae\",\"Kallymeniaceae\",\"Lachnocladiaceae\",\"Lamiaceae\",\"Lauraceae\",\"Lecanoraceae\",\"Lejeuneaceae\",\"Leptolyngbyaceae\",\"Lessoniaceae\",\"Leucobryaceae\",\"Lichinaceae\",\"Liliaceae\",\"Linaceae\",\"Linderniaceae\",\"Lithophyllaceae\",\"Lithothamniaceae\",\"Loasaceae\",\"Lobariaceae\",\"Lycopodiaceae\",\"Lythraceae\",\"Malpighiaceae\",\"Malvaceae\",\"Marantaceae\",\"Marasmiaceae\",\"Massalongiaceae\",\"Megalosporaceae\",\"Melastomataceae\",\"Meliaceae\",\"Menispermaceae\",\"Meruliaceae\",\"Meteoriaceae\",\"Metzgeriaceae\",\"Mimosaceae\",\"Molluginaceae\",\"Monoblastiaceae\",\"Montiaceae\",\"Moraceae\",\"Moringaceae\",\"Muntingiaceae\",\"Musaceae\",\"Mycenaceae\",\"Mycocaliciaceae\",\"Mycoporaceae\",\"Mycosphaerellaceae\",\"Myrtaceae\",\"Noctuidae\",\"Nyctaginaceae\",\"Ochrolechiaceae\",\"Oleaceae\",\"Onagraceae\",\"Ophioglossaceae\",\"Orchidaceae\",\"Orobanchaceae\",\"Orthotrichaceae\",\"Oxalidaceae\",\"Pallaviciniaceae\",\"Pandanaceae\",\"Pannariaceae\",\"Papaveraceae\",\"Parmeliaceae\",\"Passifloraceae\",\"Pedaliaceae\",\"Peltigeraceae\",\"Peltulaceae\",\"Peniophoraceae\",\"Pennariidae\",\"Pertusariaceae\",\"Phakopsoraceae\",\"Phallaceae\",\"Phanerochaetaceae\",\"Phyllachoraceae\",\"Phyllanthaceae\",\"Phyllophoraceae\",\"Physaraceae\",\"Physciaceae (= Caliciaceae)\",\"Phytolaccaceae\",\"Pilocarpaceae\",\"Pinaceae\",\"Piperaceae\",\"Plagiochilaceae\",\"Plantaginaceae\",\"Pleurotaceae\",\"Plocamiaceae\",\"Plumbaginaceae\",\"Pluteaceae\",\"Poaceae\",\"Polemoniaceae\",\"Polygalaceae\",\"Polygonaceae\",\"Polypodiaceae\",\"Polyporaceae\",\"Porinaceae\",\"Porolithaceae\",\"Portulacaceae\",\"Potamogetonaceae\",\"Pottiaceae\",\"Proteaceae\",\"Psilotaceae\",\"Pteridaceae\",\"Pterobryaceae\",\"Pterocladiaceae\",\"Pucciniaceae\",\"Pyrenotrichaceae\",\"Pyrenulaceae\",\"Pyronemataceae\",\"Racopilaceae\",\"Ramalinaceae\",\"Ranunculaceae\",\"Requienellaceae\",\"Rhamnaceae\",\"Rhizophoraceae\",\"Rhizophyllidaceae\",\"Rhodomelaceae\",\"Rhodymeniaceae\",\"Ricciaceae\",\"Rickenellaceae\",\"Roccellaceae\",\"Roccellographaceae\",\"Rosaceae\",\"Rubiaceae\",\"Rutaceae\",\"Salicaceae\",\"Salviniaceae\",\"Santalaceae\",\"Sapindaceae\",\"Sapotaceae\",\"Sargassaceae\",\"Schizophoraceae\",\"Schizothyriaceae\",\"Schizymeniaceae\",\"Scinaiaceae\",\"Scrophulariaceae\",\"Scytosiphonaceae\",\"Selaginellaceae\",\"Sematophyllaceae\",\"Simaroubaceae\",\"Solanaceae\",\"Solieriaceae\",\"Sphagnaceae\",\"Sphinctrinaceae\",\"Sporochnaceae\",\"Sporolithaceae\",\"Sterculiaceae\",\"Stereaceae\",\"Stereocaulaceae\",\"Stereophyllaceae\",\"Stictidaceae\",\"Strelitziaceae\",\"Strigulaceae\",\"Strophariaceae\",\"Talinaceae\",\"Targioniaceae\",\"Teloschistaceae\",\"Tephromelataceae\",\"Tetrachondraceae\",\"Thelenellaceae\",\"Thelypteridaceae\",\"Thuidiaceae\",\"Tremellaceae\",\"Tropaeolaceae\",\"Trypetheliaceae\",\"Tubeufiaceae\",\"Turneraceae\",\"Udoteaceae\",\"Ulvaceae\",\"Urticaceae\",\"Verbenaceae\",\"Verrucariaceae\",\"Viburnaceae\",\"Violaceae\",\"Vitaceae\",\"Wrangeliaceae\",\"Xenasmataceae\",\"Xylariaceae\",\"Zingiberaceae\",\"Zygophyllaceae\"],\"showlegend\":false,\"textinfo\":\"label+percent\",\"textposition\":\"inside\",\"values\":[255,35,40,23,5,144,847,73,35,47,9,91,220,130,66,2,1,43,11,506,36,59,16,5,87,9,2065,6,11,4,1,70,20,23,17,25,4,22,16,34,12,1119,1,1,1,120,47,37,18,10,256,592,281,3,4,3,1,1,20,1,25,17,28,38,34,16,52,11,7,3,38,130,1,2,1,1,74,336,19,70,28,135,5,65,358,104,107,618,15,4,59,9,149,33,7,4,10,519,34,6,4,81,9,32,4,41,96,7,1,1,115,5,22,2,1149,1346,2,1,1,4,1,3,2,25,17,24,7,2,1,1,133,12,14,728,2,56,1,28,4,15,5,2,8,32,8,7,17,4,17,8,41,16,14,20,5,358,20,467,111,1,22,14,18,10,9,3,27,1,168,122,52,70,20,919,21,33,5,5,31,57,30,5,76,6,182,174,39,52,44,1,9,33,1,17,18,17,453,1,279,21,9,45,4,98,5,43,137,3,9,30,5,1477,302,1,9,42,1,1,293,1,3,13,7,70,14,1,1519,17,353,4,133,1,203,16,9,77,2,1747,2,63,79,144,72,52,7,127,4,17,4,12,212,2,14,3,3,349,2,20,1077,10,1,87,43,14,14,17,1,2,1122,76,126,421,145,9,12,58,90,22,44,3,2,1,14,80,2,2,27,132,838,7,9,8,11,1,8,1,161,7,2,2,24,1,19,6,374,17,1,21,151,2,6,11,175,2,6,1,26,135,497,67,2,6,51,3,6,6,36,108],\"type\":\"pie\",\"domain\":{\"x\":[0.0,0.45],\"y\":[0.625,1.0]}},{\"labels\":[\"Achatinellidae\",\"Acrididae\",\"Acrolepiidae\",\"Aeolothripidae\",\"Aeshnidae\",\"Agromyzidae\",\"Aleyrodidae\",\"Alydidae\",\"Ammotrechidae\",\"Anisolabididae\",\"Anobiidae\",\"Anthocoridae\",\"Anthribidae\",\"Anyphaenidae\",\"Apidae\",\"Araneidae\",\"Archipsocidae\",\"Arctiidae\",\"Argasidae\",\"Armadillidae\",\"Asteiidae\",\"Autostichidae\",\"Berytidae\",\"Blaberidae\",\"Blastobasidae\",\"Blattellidae\",\"Blattidae\",\"Bombyliidae\",\"Bostrichidae\",\"Brentidae\",\"Bruchidae\",\"Bucculatricidae\",\"Buthidae\",\"Caeciliidae\",\"Calliphoridae\",\"Canacidae\",\"Cantharidae\",\"Carabidae\",\"Caraboctonidae\",\"Carcinophoridae\",\"Cecidomyiidae\",\"Cerambycidae\",\"Ceratopogonidae\",\"Chalcididae\",\"Charontidae\",\"Chironomidae\",\"Chloropidae\",\"Choreutidae\",\"Chrysomelidae\",\"Chrysopidae\",\"Chyromyidae\",\"Cicadellidae\",\"Ciidae\",\"Cixiidae\",\"Cleridae\",\"Coccidae\",\"Coccinellidae\",\"Coenagrionidae\",\"Coleophoridae\",\"Coreidae\",\"Corinnidae\",\"Corixidae\",\"Cosmopterigidae\",\"Culicidae\",\"Curculionidae\",\"Cydnidae\",\"Cyphoderidae\",\"Delphacidae\",\"Dermestidae\",\"Diaspididae\",\"Dictynidae\",\"Discolomatidae\",\"Dolichopodidae\",\"Drosophilidae\",\"Dytiscidae\",\"Ectopsocidae\",\"Elachistidae\",\"Elateridae\",\"Elenchidae\",\"Endomychidae\",\"Entomobryidae\",\"Ephydridae\",\"Epipsocidae\",\"Erebidae\",\"Eriococcidae\",\"Euconulidae\",\"Eumenidae\",\"Euxestidae\",\"Fanniidae\",\"Filistatidae\",\"Formicidae\",\"Gelechiidae\",\"Geometridae\",\"Geophilidae\",\"Gerridae\",\"Gnaphosidae\",\"Gracillariidae\",\"Gryllidae\",\"Gyrinidae\",\"Haliplidae\",\"Haplodesmidae\",\"Heleomyzidae\",\"Helicinidae\",\"Heliodinidae\",\"Hemerobiidae\",\"Henicopidae\",\"Hippoboscidae\",\"Histeridae\",\"Hubbardiidae\",\"Hybotidae\",\"Hydrophilidae\",\"Hypogastruridae\",\"Ichneumonidae\",\"Isotomidae\",\"Issidae\",\"Ixodidae\",\"Kalotermitidae\",\"Lachesillidae\",\"Laemophloeidae\",\"Latridiidae\",\"Lepidopsocidae\",\"Lepismatidae\",\"Libellulidae\",\"Limoniidae\",\"Linyphiidae\",\"Lycaenidae\",\"Lycosidae\",\"Lygaeidae\",\"Margarodidae\",\"Megascolecidae\",\"Meloidae\",\"Melyridae\",\"Merothripidae\",\"Mesovellidae\",\"Milichiidae\",\"Miridae\",\"Monotomidae\",\"Mordellidae\",\"Muscidae\",\"Mycetophagidae\",\"Myopsocidae\",\"Myrmeleontidae\",\"Mysmenidae\",\"Mythicomyiidae\",\"Nabidae\",\"Neanuridae\",\"Nesticidae\",\"Nitidulidae\",\"Noctuidae\",\"Nolidae\",\"Nymphalidae\",\"Ochyroceratidae\",\"Odiniidae\",\"Oecobiidae\",\"Oedemeridae\",\"Oligotomidae\",\"Onychiuridae\",\"Oonopidae\",\"Opostegidae\",\"Orthalicidae\",\"Ortheziidae\",\"Oryidae\",\"Oxychilidae\",\"Oxyopidae\",\"Paradoxosomatidae\",\"Pentatomidae\",\"Peripsocidae\",\"Phalacridae\",\"Philosciidae\",\"Philotarsidae\",\"Phlaeothripidae\",\"Pholcidae\",\"Phoridae\",\"Pieridae\",\"Pipunculidae\",\"Pleidae\",\"Polyphagidae\",\"Porcellionidae\",\"Prodidomidae\",\"Pseudocaeciliidae\",\"Pseudococcidae\",\"Psocidae\",\"Pteromalidae\",\"Pterophoridae\",\"Ptiliidae\",\"Ptinidae\",\"Pyralidae\",\"Pyrgodesmidae\",\"Reduviidae\",\"Rhopalidae\",\"Rhyparochromidae\",\"Rhyscotidae\",\"Ripiphoridae\",\"Saldidae\",\"Salticidae\",\"Sarcophagidae\",\"Scarabaeidae\",\"Scatopsidae\",\"Scenopinidae\",\"Schendylidae\",\"Sciaridae\",\"Scolodontidae\",\"Scolopendridae\",\"Scolopocryptopidae\",\"Scutigerellidae\",\"Scytodidae\",\"Segestriidae\",\"Selenopidae\",\"Sepsidae\",\"Sicariidae\",\"Silvanidae\",\"Simuliidae\",\"Sparassidae\",\"Sphaeroceridae\",\"Sphecidae\",\"Sphingidae\",\"Spirostreptidae\",\"Spongiphoridae\",\"Staphylinidae\",\"Stratiomyidae\",\"Subulinidae\",\"Succineidae\",\"Syrphidae\",\"Tabanidae\",\"Tachinidae\",\"Tenebrionidae\",\"Tephritidae\",\"Tetragnathidae\",\"Tettigoniidae\",\"Theridiidae\",\"Thespidae\",\"Thomisidae\",\"Thripidae\",\"Tineidae\",\"Tingidae\",\"Tischeriidae\",\"Tortricidae\",\"Tripiduchidae\",\"Trogidae\",\"Trogossitidae\",\"Tylidae\",\"Ulidiidae\",\"Uloboridae\",\"Uraniidae\",\"Veliidae\",\"Veronicellidae\",\"Vertiginidae\",\"Vespidae\",\"Yponomeutidae\",\"Zonitidae\",\"Zopheridae\",\"Zoridae\"],\"showlegend\":false,\"textinfo\":\"label+percent\",\"textposition\":\"inside\",\"values\":[21,121,6,2,12,96,5,20,23,143,70,33,67,31,71,76,1,41,16,97,29,60,25,126,29,468,62,64,73,5,31,8,25,1,120,7,13,361,173,10,2,161,148,81,1,7,83,21,262,88,2,200,10,13,64,39,419,13,8,17,12,37,93,52,783,85,24,88,19,39,5,4,248,410,124,3,30,324,4,6,96,8,4,169,4,3,12,4,40,1,5591,80,186,10,14,42,54,584,11,1,1,62,26,7,34,1,2,30,5,2,434,118,23,18,1,13,4,3,11,3,29,4,16,44,47,45,23,362,20,1,8,2,1,13,10,301,14,34,673,9,2,34,11,25,90,3,20,267,1542,4,12,2,15,11,124,9,2,8,4,181,19,3,15,9,201,134,19,64,129,3,15,8,62,1,44,26,5,138,15,5,24,1,2,254,3,42,539,45,69,73,29,1,9,15,46,486,119,1,2,4,17,10,22,8,2,12,4,4,103,3,26,17,29,11,3,1,99,33,336,47,49,1,161,5,35,1380,127,17,124,53,39,3,1,4,99,10,73,1,34,18,2,187,2,4,4,20,76,193,31,1,16,6],\"type\":\"pie\",\"domain\":{\"x\":[0.55,1.0],\"y\":[0.625,1.0]}},{\"labels\":[\"Acanthochitonidae\",\"Acanthuridae\",\"Acartiidae\",\"Acidopsidae\",\"Actiniidae\",\"Aeolidiidae\",\"Aethridae\",\"Agariciidae\",\"Aglajidae\",\"Aglaopheniidae\",\"Alosidae\",\"Alpheidae\",\"Alvinellidae\",\"Ammotheidae\",\"Amphinomidae\",\"Amphipleuraceae\",\"Amphoriscidae\",\"Andvakiidae\",\"Antennariidae\",\"Antipathidae\",\"Antroporidae\",\"Aplysiidae\",\"Aplysinellidae\",\"Apogonidae\",\"Architectonicidae\",\"Arcidae\",\"Arhynchobatidae\",\"Ascidiidae\",\"Assimineidae\",\"Asteriidae\",\"Asterinidae\",\"Asterodiscididae\",\"Asteropseidae\",\"Astrangiidae\",\"Astropectinidae\",\"Atyidae\",\"Aulostomidae\",\"Axiidae\",\"Axinellidae\",\"Balanidae\",\"Balistidae\",\"Barleeiidae\",\"Batillariidae\",\"Bitectiporidae\",\"Blenniidae\",\"Borsoniidae\",\"Bothidae\",\"Botrucnidiferidae\",\"Brisingidae\",\"Bryopsidaceae\",\"Bubaridae\",\"Bucephalidae\",\"Bugulidae\",\"Bullidae\",\"Bursidae\",\"Bythitidae\",\"Bythograeidae\",\"Calanidae\",\"Calappidae\",\"Callianideidae\",\"Calliostomatidae\",\"Callistoplacidae\",\"Calloporidae\",\"Calyptraeidae\",\"Campanulariidae\",\"Cancellariidae\",\"Candidae\",\"Capulidae\",\"Caraboctonidae\",\"Carangidae\",\"Cardiidae\",\"Carditidae\",\"Caryophylliidae\",\"Cassidae\",\"Cassidulidae\",\"Caulerpaceae\",\"Celleporidae\",\"Centropomidae\",\"Cerithiidae\",\"Cerithiopsidae\",\"Chaenopsidae\",\"Chaetodontidae\",\"Chaetopteridae\",\"Chalinidae\",\"Chamidae\",\"Chanidae\",\"Charoniidae\",\"Chirostylidae\",\"Chitonidae\",\"Chondrillidae\",\"Chromodorididae\",\"Cichlidae\",\"Cidaridae\",\"Cirrhitidae\",\"Clathrinidae\",\"Cleidochasmatidae\",\"Clionaidae\",\"Clypeasteridae\",\"Coenobitidae\",\"Colatooeciidae\",\"Colubrariidae\",\"Columbellidae\",\"Condylocardiidae\",\"Congridae\",\"Conidae\",\"Coryphaenidae\",\"Cribrilinidae\",\"Crisiidae\",\"Cryptochiridae\",\"Cyclodorippidae\",\"Cymatiidae\",\"Cypraeidae\",\"Cystiscidae\",\"Dactyloscopidae\",\"Dairidae\",\"Darwinellidae\",\"Deimatidae\",\"Dendrodorididae\",\"Dendrophylliidae\",\"Desmacellidae\",\"Diadematidae\",\"Diadesmidaceae\",\"Diclidophoridae\",\"Dictyonellidae\",\"Dictyotaceae\",\"Didemnidae\",\"Diodontidae\",\"Diogenidae\",\"Discodorididae\",\"Domeciidae\",\"Dorosomatidae\",\"Drilliidae\",\"Dromiidae\",\"Dynomenidae\",\"Echeneidae\",\"Echinometridae\",\"Echinophallidae\",\"Elapidae\",\"Eleotridae\",\"Ellobiidae\",\"Elopidae\",\"Engraulidae\",\"Entomoneidaceae\",\"Ephippidae\",\"Epialtidae\",\"Epitoniidae\",\"Eratoidae\",\"Eriphiidae\",\"Ethusidae\",\"Eudendriidae\",\"Eulimidae\",\"Eumunididae\",\"Eunotiaceae\",\"Euphausiidae\",\"Euretidae\",\"Exechonellidae\",\"Exocoetidae\",\"Fasciolariidae\",\"Fissurellidae\",\"Fistulariidae\",\"Fungiidae\",\"Galeommatidae\",\"Gecarcinidae\",\"Geodiidae\",\"Gerreidae\",\"Gigantoporidae\",\"Glycymerididae\",\"Gobiesocidae\",\"Gobiidae\",\"Gonodactylidae\",\"Gorgoniidae\",\"Granulinidae\",\"Grapsidae\",\"Haemulidae\",\"Haleciidae\",\"Halichondriidae\",\"Haliotidae\",\"Halopterididae\",\"Harpidae\",\"Heliasteridae\",\"Hemieuryalidae\",\"Hemiramphidae\",\"Hesionidae\",\"Hippidae\",\"Hippolytidae\",\"Hipponicidae\",\"Hippopodinidae\",\"Hirudinellidae\",\"Holocentridae\",\"Holothuriidae\",\"Hymedesmiidae\",\"Hymerhabdiidae\",\"Inachidae\",\"Inachoididae\",\"Ischnochitonidae\",\"Isognomonidae\",\"Kuhliidae\",\"Kyphosidae\",\"Labridae\",\"Labrisomidae\",\"Lepadidae\",\"Leptosomatidae\",\"Leucosiidae\",\"Lichenoporidae\",\"Ligiidae\",\"Limidae\",\"Litiopidae\",\"Littorinidae\",\"Lottiidae\",\"Loveniidae\",\"Lucinidae\",\"Luidiidae\",\"Lutjanidae\",\"Lysmatidae\",\"Mactridae\",\"Majidae\",\"Malacanthidae\",\"Malakichthyidae\",\"Mangeliidae\",\"Margaritidae\",\"Marginellidae\",\"Mellitidae\",\"Membraniporidae\",\"Menippidae\",\"Microcionidae\",\"Microporellidae\",\"Mithracidae\",\"Mithrodiidae\",\"Mitridae\",\"Modulidae\",\"Moridae\",\"Mugilidae\",\"Mullidae\",\"Munididae\",\"Munidopsidae\",\"Muraenidae\",\"Muricidae\",\"Mycalidae\",\"Myctophidae\",\"Myriopathidae\",\"Mytilidae\",\"Myxinidae\",\"Nassariidae\",\"Naticidae\",\"Neritidae\",\"Nettastomatidae\",\"Noetiidae\",\"Oceaniidae\",\"Octopodidae\",\"Oculinidae\",\"Ocypodidae\",\"Odontasteridae\",\"Ogcocephalidae\",\"Olividae\",\"Ommastrephidae\",\"Onchidiidae\",\"Onychoteuthidae\",\"Opecoelidae\",\"Ophiacanthidae\",\"Ophiactidae\",\"Ophichthidae\",\"Ophidiasteridae\",\"Ophidiidae\",\"Ophiocomidae\",\"Ophiodermatidae\",\"Ophionereididae\",\"Ophiothamnidae\",\"Ophiotomidae\",\"Ophiotrichidae\",\"Oreasteridae\",\"Ostreidae\",\"Ovulidae\",\"Oziidae\",\"Paguridae\",\"Palaemonidae\",\"Palicidae\",\"Palinuridae\",\"Panopeidae\",\"Paramuriceidae\",\"Parthenopidae\",\"Pectinidae\",\"Pediculariidae\",\"Penaeidae\",\"Pennariidae\",\"Pennatulidae\",\"Pentametrocrinidae\",\"Percnidae\",\"Peristediidae\",\"Petrosiidae\",\"Phascolosomatidae\",\"Phasianellidae\",\"Phidoloporidae\",\"Phoxichilidiidae\",\"Phyllodocidae\",\"Physaliidae\",\"Pilumnidae\",\"Pinnidae\",\"Pinnotheridae\",\"Pinnulariaceae\",\"Pisaniidae\",\"Plagusiidae\",\"Planaxidae\",\"Pleurobranchidae\",\"Plexauridae\",\"Plumulariidae\",\"Pocilloporidae\",\"Polyceridae\",\"Polyclinidae\",\"Polymastiidae\",\"Polynemidae\",\"Polynoidae\",\"Pomacanthidae\",\"Pomacentridae\",\"Porcellanidae\",\"Poritidae\",\"Porpitidae\",\"Portunidae\",\"Prenasteridae\",\"Primnoidae\",\"Psammobiidae\",\"Psammocoridae\",\"Pseudodiaptomidae\",\"Pseudomelatomidae\",\"Pseudorhombilidae\",\"Pseudosquillidae\",\"Pteriidae\",\"Pterosagittidae\",\"Pycnogonidae\",\"Pyramidellidae\",\"Pyroteuthidae\",\"Pyuridae\",\"Raninidae\",\"Raphitomidae\",\"Rhincalanidae\",\"Rhizangiidae\",\"Rhynchocinetidae\",\"Rissoinidae\",\"Sabellidae\",\"Savignyellidae\",\"Scaphandridae\",\"Scaridae\",\"Schizoporellidae\",\"Sciaenidae\",\"Sclerodactylidae\",\"Scombridae\",\"Scorpaenidae\",\"Scyllaridae\",\"Semelidae\",\"Sergestidae\",\"Serpulidae\",\"Serranidae\",\"Sertulariidae\",\"Siboglinidae\",\"Sicyoniidae\",\"Siphonariidae\",\"Smittinidae\",\"Solecurtidae\",\"Sparidae\",\"Sphyraenidae\",\"Spongiphoridae\",\"Stelligeridae\",\"Stercorariidae\",\"Sternoptychidae\",\"Sternostylidae\",\"Stichopodidae\",\"Strombidae\",\"Styelidae\",\"Stylasteridae\",\"Syllidae\",\"Synaptidae\",\"Syngnathidae\",\"Synodontidae\",\"Syrphidae\",\"Tedaniidae\",\"Tegulidae\",\"Tellinidae\",\"Telorchiidae\",\"Terebridae\",\"Tethyidae\",\"Tetillidae\",\"Tetraclitidae\",\"Tetraodontidae\",\"Thalassematidae\",\"Thorectidae\",\"Thoridae\",\"Thysanoteuthidae\",\"Tonnidae\",\"Tornatinidae\",\"Toxopneustidae\",\"Trapeziidae\",\"Trichiuridae\",\"Triglidae\",\"Triphoridae\",\"Tripterygiidae\",\"Triviidae\",\"Trypostegidae\",\"Tubulariidae\",\"Turritellidae\",\"Tylodinidae\",\"Ungulinidae\",\"Valenciniidae\",\"Veneridae\",\"Vermetidae\",\"Vesicomyidae\",\"Vesiculariidae\",\"Vulcanellidae\",\"Watersiporidae\",\"Xanthidae\"],\"showlegend\":false,\"textinfo\":\"label+percent\",\"textposition\":\"inside\",\"values\":[8,1,1,4,22,3,4,60,6,13,3,129,3,4,5,1,1,10,5,8,4,15,2,8,1,69,1,1,1,4,2,1,1,8,5,5,1,6,1,77,3,5,1,1,14,1,1,1,1,1,1,1,33,41,4,3,1,3,7,1,8,1,2,16,20,11,2,1,1,21,26,17,22,25,6,2,48,1,59,9,3,4,6,12,20,1,1,5,18,4,6,1,20,1,2,1,5,7,5,1,12,141,2,59,125,2,2,1,2,1,38,67,5,3,8,3,1,6,84,2,2,2,1,2,1,72,1,35,3,4,8,15,1,16,1,12,1,1,8,18,1,6,1,1,52,19,3,14,2,2,2,1,3,9,1,2,15,61,71,2,11,11,2,4,15,4,1,7,20,17,15,4,17,36,1,2,3,2,7,2,4,8,2,13,11,57,14,4,7,104,14,2,11,18,2,24,1,7,12,27,8,4,10,3,1,10,19,32,24,3,29,8,6,16,1,1,5,1,3,13,14,3,4,2,1,2,78,3,50,6,3,35,2,2,3,25,170,25,4,11,39,9,59,20,26,3,17,2,1,5,27,1,7,13,4,15,4,1,5,11,7,21,4,16,7,12,1,1,27,12,8,3,37,20,66,2,2,6,4,13,16,6,24,17,3,1,5,1,3,2,3,3,1,3,3,3,5,4,1,62,7,16,4,6,4,27,3,42,4,2,3,3,28,60,5,1,35,11,2,2,14,1,5,23,5,2,8,5,1,4,8,1,4,1,24,9,19,13,24,3,4,35,3,6,8,14,7,17,1,18,50,8,1,7,10,2,5,9,1,1,4,1,1,1,9,4,84,12,2,1,7,2,1,5,34,19,1,43,5,2,3,9,6,1,2,4,2,1,10,15,2,1,4,2,23,1,6,3,2,9,2,41,7,1,30,1,11,172],\"type\":\"pie\",\"domain\":{\"x\":[0.0,0.45],\"y\":[0.0,0.375]}},{\"labels\":[\"Accipitridae\",\"Anatidae\",\"Ardeidae\",\"Bufonidae\",\"Canidae\",\"Charadriidae\",\"Cheloniidae\",\"Columbidae\",\"Cricetidae\",\"Cuculidae\",\"Delphinidae\",\"Diomedeidae\",\"Dipsadidae\",\"Elapidae\",\"Equidae\",\"Felidae\",\"Fregatidae\",\"Gekkonidae\",\"Gymnophthalmidae\",\"Hirundinidae\",\"Hydrobatidae\",\"Hylidae\",\"Icteridae\",\"Iguanidae\",\"Laridae\",\"Mimidae\",\"Muridae\",\"Otariidae\",\"Parulidae\",\"Phaethontidae\",\"Phalacrocoracidae\",\"Phasianidae\",\"Procellariidae\",\"Rallidae\",\"Recurvirostridae\",\"Scincidae\",\"Scolopacidae\",\"Spheniscidae\",\"Strigidae\",\"Struthionidae\",\"Suidae\",\"Sulidae\",\"Testunidae\",\"Thraupidae\",\"Tropiduridae\",\"Tyrannidae\",\"Tytonidae\",\"Vespertilionidae\",\"Ziphiidae\"],\"showlegend\":false,\"textinfo\":\"label+percent\",\"textposition\":\"inside\",\"values\":[8,3,33,1,4,1,41,40,46,44,20,10,44,11,1,6,12,57,1,3,18,52,1,105,22,28,71,242,58,14,14,23,42,20,2,1,9,17,10,1,1,39,50,229,12,15,15,12,3],\"type\":\"pie\",\"domain\":{\"x\":[0.55,1.0],\"y\":[0.0,0.375]}}],                        {\"template\":{\"data\":{\"histogram2dcontour\":[{\"type\":\"histogram2dcontour\",\"colorbar\":{\"outlinewidth\":0,\"ticks\":\"\"},\"colorscale\":[[0.0,\"#0d0887\"],[0.1111111111111111,\"#46039f\"],[0.2222222222222222,\"#7201a8\"],[0.3333333333333333,\"#9c179e\"],[0.4444444444444444,\"#bd3786\"],[0.5555555555555556,\"#d8576b\"],[0.6666666666666666,\"#ed7953\"],[0.7777777777777778,\"#fb9f3a\"],[0.8888888888888888,\"#fdca26\"],[1.0,\"#f0f921\"]]}],\"choropleth\":[{\"type\":\"choropleth\",\"colorbar\":{\"outlinewidth\":0,\"ticks\":\"\"}}],\"histogram2d\":[{\"type\":\"histogram2d\",\"colorbar\":{\"outlinewidth\":0,\"ticks\":\"\"},\"colorscale\":[[0.0,\"#0d0887\"],[0.1111111111111111,\"#46039f\"],[0.2222222222222222,\"#7201a8\"],[0.3333333333333333,\"#9c179e\"],[0.4444444444444444,\"#bd3786\"],[0.5555555555555556,\"#d8576b\"],[0.6666666666666666,\"#ed7953\"],[0.7777777777777778,\"#fb9f3a\"],[0.8888888888888888,\"#fdca26\"],[1.0,\"#f0f921\"]]}],\"heatmap\":[{\"type\":\"heatmap\",\"colorbar\":{\"outlinewidth\":0,\"ticks\":\"\"},\"colorscale\":[[0.0,\"#0d0887\"],[0.1111111111111111,\"#46039f\"],[0.2222222222222222,\"#7201a8\"],[0.3333333333333333,\"#9c179e\"],[0.4444444444444444,\"#bd3786\"],[0.5555555555555556,\"#d8576b\"],[0.6666666666666666,\"#ed7953\"],[0.7777777777777778,\"#fb9f3a\"],[0.8888888888888888,\"#fdca26\"],[1.0,\"#f0f921\"]]}],\"heatmapgl\":[{\"type\":\"heatmapgl\",\"colorbar\":{\"outlinewidth\":0,\"ticks\":\"\"},\"colorscale\":[[0.0,\"#0d0887\"],[0.1111111111111111,\"#46039f\"],[0.2222222222222222,\"#7201a8\"],[0.3333333333333333,\"#9c179e\"],[0.4444444444444444,\"#bd3786\"],[0.5555555555555556,\"#d8576b\"],[0.6666666666666666,\"#ed7953\"],[0.7777777777777778,\"#fb9f3a\"],[0.8888888888888888,\"#fdca26\"],[1.0,\"#f0f921\"]]}],\"contourcarpet\":[{\"type\":\"contourcarpet\",\"colorbar\":{\"outlinewidth\":0,\"ticks\":\"\"}}],\"contour\":[{\"type\":\"contour\",\"colorbar\":{\"outlinewidth\":0,\"ticks\":\"\"},\"colorscale\":[[0.0,\"#0d0887\"],[0.1111111111111111,\"#46039f\"],[0.2222222222222222,\"#7201a8\"],[0.3333333333333333,\"#9c179e\"],[0.4444444444444444,\"#bd3786\"],[0.5555555555555556,\"#d8576b\"],[0.6666666666666666,\"#ed7953\"],[0.7777777777777778,\"#fb9f3a\"],[0.8888888888888888,\"#fdca26\"],[1.0,\"#f0f921\"]]}],\"surface\":[{\"type\":\"surface\",\"colorbar\":{\"outlinewidth\":0,\"ticks\":\"\"},\"colorscale\":[[0.0,\"#0d0887\"],[0.1111111111111111,\"#46039f\"],[0.2222222222222222,\"#7201a8\"],[0.3333333333333333,\"#9c179e\"],[0.4444444444444444,\"#bd3786\"],[0.5555555555555556,\"#d8576b\"],[0.6666666666666666,\"#ed7953\"],[0.7777777777777778,\"#fb9f3a\"],[0.8888888888888888,\"#fdca26\"],[1.0,\"#f0f921\"]]}],\"mesh3d\":[{\"type\":\"mesh3d\",\"colorbar\":{\"outlinewidth\":0,\"ticks\":\"\"}}],\"scatter\":[{\"fillpattern\":{\"fillmode\":\"overlay\",\"size\":10,\"solidity\":0.2},\"type\":\"scatter\"}],\"parcoords\":[{\"type\":\"parcoords\",\"line\":{\"colorbar\":{\"outlinewidth\":0,\"ticks\":\"\"}}}],\"scatterpolargl\":[{\"type\":\"scatterpolargl\",\"marker\":{\"colorbar\":{\"outlinewidth\":0,\"ticks\":\"\"}}}],\"bar\":[{\"error_x\":{\"color\":\"#2a3f5f\"},\"error_y\":{\"color\":\"#2a3f5f\"},\"marker\":{\"line\":{\"color\":\"#E5ECF6\",\"width\":0.5},\"pattern\":{\"fillmode\":\"overlay\",\"size\":10,\"solidity\":0.2}},\"type\":\"bar\"}],\"scattergeo\":[{\"type\":\"scattergeo\",\"marker\":{\"colorbar\":{\"outlinewidth\":0,\"ticks\":\"\"}}}],\"scatterpolar\":[{\"type\":\"scatterpolar\",\"marker\":{\"colorbar\":{\"outlinewidth\":0,\"ticks\":\"\"}}}],\"histogram\":[{\"marker\":{\"pattern\":{\"fillmode\":\"overlay\",\"size\":10,\"solidity\":0.2}},\"type\":\"histogram\"}],\"scattergl\":[{\"type\":\"scattergl\",\"marker\":{\"colorbar\":{\"outlinewidth\":0,\"ticks\":\"\"}}}],\"scatter3d\":[{\"type\":\"scatter3d\",\"line\":{\"colorbar\":{\"outlinewidth\":0,\"ticks\":\"\"}},\"marker\":{\"colorbar\":{\"outlinewidth\":0,\"ticks\":\"\"}}}],\"scattermapbox\":[{\"type\":\"scattermapbox\",\"marker\":{\"colorbar\":{\"outlinewidth\":0,\"ticks\":\"\"}}}],\"scatterternary\":[{\"type\":\"scatterternary\",\"marker\":{\"colorbar\":{\"outlinewidth\":0,\"ticks\":\"\"}}}],\"scattercarpet\":[{\"type\":\"scattercarpet\",\"marker\":{\"colorbar\":{\"outlinewidth\":0,\"ticks\":\"\"}}}],\"carpet\":[{\"aaxis\":{\"endlinecolor\":\"#2a3f5f\",\"gridcolor\":\"white\",\"linecolor\":\"white\",\"minorgridcolor\":\"white\",\"startlinecolor\":\"#2a3f5f\"},\"baxis\":{\"endlinecolor\":\"#2a3f5f\",\"gridcolor\":\"white\",\"linecolor\":\"white\",\"minorgridcolor\":\"white\",\"startlinecolor\":\"#2a3f5f\"},\"type\":\"carpet\"}],\"table\":[{\"cells\":{\"fill\":{\"color\":\"#EBF0F8\"},\"line\":{\"color\":\"white\"}},\"header\":{\"fill\":{\"color\":\"#C8D4E3\"},\"line\":{\"color\":\"white\"}},\"type\":\"table\"}],\"barpolar\":[{\"marker\":{\"line\":{\"color\":\"#E5ECF6\",\"width\":0.5},\"pattern\":{\"fillmode\":\"overlay\",\"size\":10,\"solidity\":0.2}},\"type\":\"barpolar\"}],\"pie\":[{\"automargin\":true,\"type\":\"pie\"}]},\"layout\":{\"autotypenumbers\":\"strict\",\"colorway\":[\"#636efa\",\"#EF553B\",\"#00cc96\",\"#ab63fa\",\"#FFA15A\",\"#19d3f3\",\"#FF6692\",\"#B6E880\",\"#FF97FF\",\"#FECB52\"],\"font\":{\"color\":\"#2a3f5f\"},\"hovermode\":\"closest\",\"hoverlabel\":{\"align\":\"left\"},\"paper_bgcolor\":\"white\",\"plot_bgcolor\":\"#E5ECF6\",\"polar\":{\"bgcolor\":\"#E5ECF6\",\"angularaxis\":{\"gridcolor\":\"white\",\"linecolor\":\"white\",\"ticks\":\"\"},\"radialaxis\":{\"gridcolor\":\"white\",\"linecolor\":\"white\",\"ticks\":\"\"}},\"ternary\":{\"bgcolor\":\"#E5ECF6\",\"aaxis\":{\"gridcolor\":\"white\",\"linecolor\":\"white\",\"ticks\":\"\"},\"baxis\":{\"gridcolor\":\"white\",\"linecolor\":\"white\",\"ticks\":\"\"},\"caxis\":{\"gridcolor\":\"white\",\"linecolor\":\"white\",\"ticks\":\"\"}},\"coloraxis\":{\"colorbar\":{\"outlinewidth\":0,\"ticks\":\"\"}},\"colorscale\":{\"sequential\":[[0.0,\"#0d0887\"],[0.1111111111111111,\"#46039f\"],[0.2222222222222222,\"#7201a8\"],[0.3333333333333333,\"#9c179e\"],[0.4444444444444444,\"#bd3786\"],[0.5555555555555556,\"#d8576b\"],[0.6666666666666666,\"#ed7953\"],[0.7777777777777778,\"#fb9f3a\"],[0.8888888888888888,\"#fdca26\"],[1.0,\"#f0f921\"]],\"sequentialminus\":[[0.0,\"#0d0887\"],[0.1111111111111111,\"#46039f\"],[0.2222222222222222,\"#7201a8\"],[0.3333333333333333,\"#9c179e\"],[0.4444444444444444,\"#bd3786\"],[0.5555555555555556,\"#d8576b\"],[0.6666666666666666,\"#ed7953\"],[0.7777777777777778,\"#fb9f3a\"],[0.8888888888888888,\"#fdca26\"],[1.0,\"#f0f921\"]],\"diverging\":[[0,\"#8e0152\"],[0.1,\"#c51b7d\"],[0.2,\"#de77ae\"],[0.3,\"#f1b6da\"],[0.4,\"#fde0ef\"],[0.5,\"#f7f7f7\"],[0.6,\"#e6f5d0\"],[0.7,\"#b8e186\"],[0.8,\"#7fbc41\"],[0.9,\"#4d9221\"],[1,\"#276419\"]]},\"xaxis\":{\"gridcolor\":\"white\",\"linecolor\":\"white\",\"ticks\":\"\",\"title\":{\"standoff\":15},\"zerolinecolor\":\"white\",\"automargin\":true,\"zerolinewidth\":2},\"yaxis\":{\"gridcolor\":\"white\",\"linecolor\":\"white\",\"ticks\":\"\",\"title\":{\"standoff\":15},\"zerolinecolor\":\"white\",\"automargin\":true,\"zerolinewidth\":2},\"scene\":{\"xaxis\":{\"backgroundcolor\":\"#E5ECF6\",\"gridcolor\":\"white\",\"linecolor\":\"white\",\"showbackground\":true,\"ticks\":\"\",\"zerolinecolor\":\"white\",\"gridwidth\":2},\"yaxis\":{\"backgroundcolor\":\"#E5ECF6\",\"gridcolor\":\"white\",\"linecolor\":\"white\",\"showbackground\":true,\"ticks\":\"\",\"zerolinecolor\":\"white\",\"gridwidth\":2},\"zaxis\":{\"backgroundcolor\":\"#E5ECF6\",\"gridcolor\":\"white\",\"linecolor\":\"white\",\"showbackground\":true,\"ticks\":\"\",\"zerolinecolor\":\"white\",\"gridwidth\":2}},\"shapedefaults\":{\"line\":{\"color\":\"#2a3f5f\"}},\"annotationdefaults\":{\"arrowcolor\":\"#2a3f5f\",\"arrowhead\":0,\"arrowwidth\":1},\"geo\":{\"bgcolor\":\"white\",\"landcolor\":\"#E5ECF6\",\"subunitcolor\":\"white\",\"showland\":true,\"showlakes\":true,\"lakecolor\":\"white\"},\"title\":{\"x\":0.05},\"mapbox\":{\"style\":\"light\"}}},\"annotations\":[{\"font\":{\"size\":16},\"showarrow\":false,\"text\":\"CDS\",\"x\":0.225,\"xanchor\":\"center\",\"xref\":\"paper\",\"y\":1.0,\"yanchor\":\"bottom\",\"yref\":\"paper\"},{\"font\":{\"size\":16},\"showarrow\":false,\"text\":\"ICCDRS\",\"x\":0.775,\"xanchor\":\"center\",\"xref\":\"paper\",\"y\":1.0,\"yanchor\":\"bottom\",\"yref\":\"paper\"},{\"font\":{\"size\":16},\"showarrow\":false,\"text\":\"MCCDRS\",\"x\":0.225,\"xanchor\":\"center\",\"xref\":\"paper\",\"y\":0.375,\"yanchor\":\"bottom\",\"yref\":\"paper\"},{\"font\":{\"size\":16},\"showarrow\":false,\"text\":\"VCCDRS\",\"x\":0.775,\"xanchor\":\"center\",\"xref\":\"paper\",\"y\":0.375,\"yanchor\":\"bottom\",\"yref\":\"paper\"}],\"title\":{\"text\":\"Taxonomic Families by Collection\",\"x\":0.5}},                        {\"responsive\": true}                    ).then(function(){\n",
       "                            \n",
       "var gd = document.getElementById('9dedac1e-e9f9-4b2f-8014-2aac0e956bee');\n",
       "var x = new MutationObserver(function (mutations, observer) {{\n",
       "        var display = window.getComputedStyle(gd).display;\n",
       "        if (!display || display === 'none') {{\n",
       "            console.log([gd, 'removed!']);\n",
       "            Plotly.purge(gd);\n",
       "            observer.disconnect();\n",
       "        }}\n",
       "}});\n",
       "\n",
       "// Listen for the removal of the full notebook cells\n",
       "var notebookContainer = gd.closest('#notebook-container');\n",
       "if (notebookContainer) {{\n",
       "    x.observe(notebookContainer, {childList: true});\n",
       "}}\n",
       "\n",
       "// Listen for the clearing of the current output cell\n",
       "var outputEl = gd.closest('.output');\n",
       "if (outputEl) {{\n",
       "    x.observe(outputEl, {childList: true});\n",
       "}}\n",
       "\n",
       "                        })                };                });            </script>        </div>"
      ]
     },
     "metadata": {},
     "output_type": "display_data"
    }
   ],
   "source": [
    "import plotly.graph_objs as go\n",
    "from plotly.subplots import make_subplots\n",
    "\n",
    "import plotly.express as px\n",
    "\n",
    "# We want a subplot for every collection\n",
    "lst = list(Fams.groupby('CollectionCode'))\n",
    "\n",
    "# Panel grid = 2 x 2\n",
    "rows = 2\n",
    "cols = 2\n",
    "# continents are the first element in l\n",
    "subplot_titles = [l[0] for l in lst]\n",
    "\n",
    "specs = [[{'type':'domain'}] * cols] * rows\n",
    "\n",
    "fig = make_subplots(\n",
    "        rows=rows,\n",
    "        cols=cols,\n",
    "        subplot_titles=subplot_titles,\n",
    "        specs=specs,\n",
    "        print_grid=True)\n",
    "\n",
    "for i, l in enumerate(lst):\n",
    "    row = i // cols + 1\n",
    "    col = i % rows + 1\n",
    "    # this is the dataframe for every Collection\n",
    "    d = l[1]\n",
    "    fig.add_trace(\n",
    "        go.Pie(labels=d[\"Family\"],\n",
    "               values=d[\"Num_Records\"],\n",
    "               showlegend=False,\n",
    "               textposition='inside',\n",
    "               textinfo='label+percent'),\n",
    "         row=row,\n",
    "         col=col\n",
    "    )\n",
    "    \n",
    "fig.update_layout(title=\"Taxonomic Families by Collection\", title_x=0.5)\n",
    "fig.show()"
   ]
  },
  {
   "cell_type": "markdown",
   "id": "c9e8aa26",
   "metadata": {},
   "source": [
    "## Figure for Porcentage of Families for each Collection"
   ]
  },
  {
   "cell_type": "code",
   "execution_count": 137,
   "id": "a67df47e",
   "metadata": {},
   "outputs": [
    {
     "data": {
      "application/vnd.plotly.v1+json": {
       "config": {
        "plotlyServerURL": "https://plot.ly"
       },
       "data": [
        {
         "domain": {
          "x": [
           0,
           1
          ],
          "y": [
           0,
           1
          ]
         },
         "hovertemplate": "Origin=%{label}<br>Num_Records=%{value}<extra></extra>",
         "labels": [
          "Cryptogenic",
          "Endemic",
          "Introduced - eradicated",
          "Introduced - established",
          "Introduced - intercepted",
          "Migrant",
          "Native",
          "No data",
          "Vagrant"
         ],
         "legendgroup": "",
         "name": "",
         "showlegend": true,
         "type": "pie",
         "values": [
          2061,
          19686,
          32,
          17593,
          31,
          52,
          23889,
          1384,
          37
         ]
        }
       ],
       "layout": {
        "legend": {
         "tracegroupgap": 0
        },
        "margin": {
         "t": 60
        },
        "template": {
         "data": {
          "bar": [
           {
            "error_x": {
             "color": "#2a3f5f"
            },
            "error_y": {
             "color": "#2a3f5f"
            },
            "marker": {
             "line": {
              "color": "#E5ECF6",
              "width": 0.5
             },
             "pattern": {
              "fillmode": "overlay",
              "size": 10,
              "solidity": 0.2
             }
            },
            "type": "bar"
           }
          ],
          "barpolar": [
           {
            "marker": {
             "line": {
              "color": "#E5ECF6",
              "width": 0.5
             },
             "pattern": {
              "fillmode": "overlay",
              "size": 10,
              "solidity": 0.2
             }
            },
            "type": "barpolar"
           }
          ],
          "carpet": [
           {
            "aaxis": {
             "endlinecolor": "#2a3f5f",
             "gridcolor": "white",
             "linecolor": "white",
             "minorgridcolor": "white",
             "startlinecolor": "#2a3f5f"
            },
            "baxis": {
             "endlinecolor": "#2a3f5f",
             "gridcolor": "white",
             "linecolor": "white",
             "minorgridcolor": "white",
             "startlinecolor": "#2a3f5f"
            },
            "type": "carpet"
           }
          ],
          "choropleth": [
           {
            "colorbar": {
             "outlinewidth": 0,
             "ticks": ""
            },
            "type": "choropleth"
           }
          ],
          "contour": [
           {
            "colorbar": {
             "outlinewidth": 0,
             "ticks": ""
            },
            "colorscale": [
             [
              0,
              "#0d0887"
             ],
             [
              0.1111111111111111,
              "#46039f"
             ],
             [
              0.2222222222222222,
              "#7201a8"
             ],
             [
              0.3333333333333333,
              "#9c179e"
             ],
             [
              0.4444444444444444,
              "#bd3786"
             ],
             [
              0.5555555555555556,
              "#d8576b"
             ],
             [
              0.6666666666666666,
              "#ed7953"
             ],
             [
              0.7777777777777778,
              "#fb9f3a"
             ],
             [
              0.8888888888888888,
              "#fdca26"
             ],
             [
              1,
              "#f0f921"
             ]
            ],
            "type": "contour"
           }
          ],
          "contourcarpet": [
           {
            "colorbar": {
             "outlinewidth": 0,
             "ticks": ""
            },
            "type": "contourcarpet"
           }
          ],
          "heatmap": [
           {
            "colorbar": {
             "outlinewidth": 0,
             "ticks": ""
            },
            "colorscale": [
             [
              0,
              "#0d0887"
             ],
             [
              0.1111111111111111,
              "#46039f"
             ],
             [
              0.2222222222222222,
              "#7201a8"
             ],
             [
              0.3333333333333333,
              "#9c179e"
             ],
             [
              0.4444444444444444,
              "#bd3786"
             ],
             [
              0.5555555555555556,
              "#d8576b"
             ],
             [
              0.6666666666666666,
              "#ed7953"
             ],
             [
              0.7777777777777778,
              "#fb9f3a"
             ],
             [
              0.8888888888888888,
              "#fdca26"
             ],
             [
              1,
              "#f0f921"
             ]
            ],
            "type": "heatmap"
           }
          ],
          "heatmapgl": [
           {
            "colorbar": {
             "outlinewidth": 0,
             "ticks": ""
            },
            "colorscale": [
             [
              0,
              "#0d0887"
             ],
             [
              0.1111111111111111,
              "#46039f"
             ],
             [
              0.2222222222222222,
              "#7201a8"
             ],
             [
              0.3333333333333333,
              "#9c179e"
             ],
             [
              0.4444444444444444,
              "#bd3786"
             ],
             [
              0.5555555555555556,
              "#d8576b"
             ],
             [
              0.6666666666666666,
              "#ed7953"
             ],
             [
              0.7777777777777778,
              "#fb9f3a"
             ],
             [
              0.8888888888888888,
              "#fdca26"
             ],
             [
              1,
              "#f0f921"
             ]
            ],
            "type": "heatmapgl"
           }
          ],
          "histogram": [
           {
            "marker": {
             "pattern": {
              "fillmode": "overlay",
              "size": 10,
              "solidity": 0.2
             }
            },
            "type": "histogram"
           }
          ],
          "histogram2d": [
           {
            "colorbar": {
             "outlinewidth": 0,
             "ticks": ""
            },
            "colorscale": [
             [
              0,
              "#0d0887"
             ],
             [
              0.1111111111111111,
              "#46039f"
             ],
             [
              0.2222222222222222,
              "#7201a8"
             ],
             [
              0.3333333333333333,
              "#9c179e"
             ],
             [
              0.4444444444444444,
              "#bd3786"
             ],
             [
              0.5555555555555556,
              "#d8576b"
             ],
             [
              0.6666666666666666,
              "#ed7953"
             ],
             [
              0.7777777777777778,
              "#fb9f3a"
             ],
             [
              0.8888888888888888,
              "#fdca26"
             ],
             [
              1,
              "#f0f921"
             ]
            ],
            "type": "histogram2d"
           }
          ],
          "histogram2dcontour": [
           {
            "colorbar": {
             "outlinewidth": 0,
             "ticks": ""
            },
            "colorscale": [
             [
              0,
              "#0d0887"
             ],
             [
              0.1111111111111111,
              "#46039f"
             ],
             [
              0.2222222222222222,
              "#7201a8"
             ],
             [
              0.3333333333333333,
              "#9c179e"
             ],
             [
              0.4444444444444444,
              "#bd3786"
             ],
             [
              0.5555555555555556,
              "#d8576b"
             ],
             [
              0.6666666666666666,
              "#ed7953"
             ],
             [
              0.7777777777777778,
              "#fb9f3a"
             ],
             [
              0.8888888888888888,
              "#fdca26"
             ],
             [
              1,
              "#f0f921"
             ]
            ],
            "type": "histogram2dcontour"
           }
          ],
          "mesh3d": [
           {
            "colorbar": {
             "outlinewidth": 0,
             "ticks": ""
            },
            "type": "mesh3d"
           }
          ],
          "parcoords": [
           {
            "line": {
             "colorbar": {
              "outlinewidth": 0,
              "ticks": ""
             }
            },
            "type": "parcoords"
           }
          ],
          "pie": [
           {
            "automargin": true,
            "type": "pie"
           }
          ],
          "scatter": [
           {
            "fillpattern": {
             "fillmode": "overlay",
             "size": 10,
             "solidity": 0.2
            },
            "type": "scatter"
           }
          ],
          "scatter3d": [
           {
            "line": {
             "colorbar": {
              "outlinewidth": 0,
              "ticks": ""
             }
            },
            "marker": {
             "colorbar": {
              "outlinewidth": 0,
              "ticks": ""
             }
            },
            "type": "scatter3d"
           }
          ],
          "scattercarpet": [
           {
            "marker": {
             "colorbar": {
              "outlinewidth": 0,
              "ticks": ""
             }
            },
            "type": "scattercarpet"
           }
          ],
          "scattergeo": [
           {
            "marker": {
             "colorbar": {
              "outlinewidth": 0,
              "ticks": ""
             }
            },
            "type": "scattergeo"
           }
          ],
          "scattergl": [
           {
            "marker": {
             "colorbar": {
              "outlinewidth": 0,
              "ticks": ""
             }
            },
            "type": "scattergl"
           }
          ],
          "scattermapbox": [
           {
            "marker": {
             "colorbar": {
              "outlinewidth": 0,
              "ticks": ""
             }
            },
            "type": "scattermapbox"
           }
          ],
          "scatterpolar": [
           {
            "marker": {
             "colorbar": {
              "outlinewidth": 0,
              "ticks": ""
             }
            },
            "type": "scatterpolar"
           }
          ],
          "scatterpolargl": [
           {
            "marker": {
             "colorbar": {
              "outlinewidth": 0,
              "ticks": ""
             }
            },
            "type": "scatterpolargl"
           }
          ],
          "scatterternary": [
           {
            "marker": {
             "colorbar": {
              "outlinewidth": 0,
              "ticks": ""
             }
            },
            "type": "scatterternary"
           }
          ],
          "surface": [
           {
            "colorbar": {
             "outlinewidth": 0,
             "ticks": ""
            },
            "colorscale": [
             [
              0,
              "#0d0887"
             ],
             [
              0.1111111111111111,
              "#46039f"
             ],
             [
              0.2222222222222222,
              "#7201a8"
             ],
             [
              0.3333333333333333,
              "#9c179e"
             ],
             [
              0.4444444444444444,
              "#bd3786"
             ],
             [
              0.5555555555555556,
              "#d8576b"
             ],
             [
              0.6666666666666666,
              "#ed7953"
             ],
             [
              0.7777777777777778,
              "#fb9f3a"
             ],
             [
              0.8888888888888888,
              "#fdca26"
             ],
             [
              1,
              "#f0f921"
             ]
            ],
            "type": "surface"
           }
          ],
          "table": [
           {
            "cells": {
             "fill": {
              "color": "#EBF0F8"
             },
             "line": {
              "color": "white"
             }
            },
            "header": {
             "fill": {
              "color": "#C8D4E3"
             },
             "line": {
              "color": "white"
             }
            },
            "type": "table"
           }
          ]
         },
         "layout": {
          "annotationdefaults": {
           "arrowcolor": "#2a3f5f",
           "arrowhead": 0,
           "arrowwidth": 1
          },
          "autotypenumbers": "strict",
          "coloraxis": {
           "colorbar": {
            "outlinewidth": 0,
            "ticks": ""
           }
          },
          "colorscale": {
           "diverging": [
            [
             0,
             "#8e0152"
            ],
            [
             0.1,
             "#c51b7d"
            ],
            [
             0.2,
             "#de77ae"
            ],
            [
             0.3,
             "#f1b6da"
            ],
            [
             0.4,
             "#fde0ef"
            ],
            [
             0.5,
             "#f7f7f7"
            ],
            [
             0.6,
             "#e6f5d0"
            ],
            [
             0.7,
             "#b8e186"
            ],
            [
             0.8,
             "#7fbc41"
            ],
            [
             0.9,
             "#4d9221"
            ],
            [
             1,
             "#276419"
            ]
           ],
           "sequential": [
            [
             0,
             "#0d0887"
            ],
            [
             0.1111111111111111,
             "#46039f"
            ],
            [
             0.2222222222222222,
             "#7201a8"
            ],
            [
             0.3333333333333333,
             "#9c179e"
            ],
            [
             0.4444444444444444,
             "#bd3786"
            ],
            [
             0.5555555555555556,
             "#d8576b"
            ],
            [
             0.6666666666666666,
             "#ed7953"
            ],
            [
             0.7777777777777778,
             "#fb9f3a"
            ],
            [
             0.8888888888888888,
             "#fdca26"
            ],
            [
             1,
             "#f0f921"
            ]
           ],
           "sequentialminus": [
            [
             0,
             "#0d0887"
            ],
            [
             0.1111111111111111,
             "#46039f"
            ],
            [
             0.2222222222222222,
             "#7201a8"
            ],
            [
             0.3333333333333333,
             "#9c179e"
            ],
            [
             0.4444444444444444,
             "#bd3786"
            ],
            [
             0.5555555555555556,
             "#d8576b"
            ],
            [
             0.6666666666666666,
             "#ed7953"
            ],
            [
             0.7777777777777778,
             "#fb9f3a"
            ],
            [
             0.8888888888888888,
             "#fdca26"
            ],
            [
             1,
             "#f0f921"
            ]
           ]
          },
          "colorway": [
           "#636efa",
           "#EF553B",
           "#00cc96",
           "#ab63fa",
           "#FFA15A",
           "#19d3f3",
           "#FF6692",
           "#B6E880",
           "#FF97FF",
           "#FECB52"
          ],
          "font": {
           "color": "#2a3f5f"
          },
          "geo": {
           "bgcolor": "white",
           "lakecolor": "white",
           "landcolor": "#E5ECF6",
           "showlakes": true,
           "showland": true,
           "subunitcolor": "white"
          },
          "hoverlabel": {
           "align": "left"
          },
          "hovermode": "closest",
          "mapbox": {
           "style": "light"
          },
          "paper_bgcolor": "white",
          "plot_bgcolor": "#E5ECF6",
          "polar": {
           "angularaxis": {
            "gridcolor": "white",
            "linecolor": "white",
            "ticks": ""
           },
           "bgcolor": "#E5ECF6",
           "radialaxis": {
            "gridcolor": "white",
            "linecolor": "white",
            "ticks": ""
           }
          },
          "scene": {
           "xaxis": {
            "backgroundcolor": "#E5ECF6",
            "gridcolor": "white",
            "gridwidth": 2,
            "linecolor": "white",
            "showbackground": true,
            "ticks": "",
            "zerolinecolor": "white"
           },
           "yaxis": {
            "backgroundcolor": "#E5ECF6",
            "gridcolor": "white",
            "gridwidth": 2,
            "linecolor": "white",
            "showbackground": true,
            "ticks": "",
            "zerolinecolor": "white"
           },
           "zaxis": {
            "backgroundcolor": "#E5ECF6",
            "gridcolor": "white",
            "gridwidth": 2,
            "linecolor": "white",
            "showbackground": true,
            "ticks": "",
            "zerolinecolor": "white"
           }
          },
          "shapedefaults": {
           "line": {
            "color": "#2a3f5f"
           }
          },
          "ternary": {
           "aaxis": {
            "gridcolor": "white",
            "linecolor": "white",
            "ticks": ""
           },
           "baxis": {
            "gridcolor": "white",
            "linecolor": "white",
            "ticks": ""
           },
           "bgcolor": "#E5ECF6",
           "caxis": {
            "gridcolor": "white",
            "linecolor": "white",
            "ticks": ""
           }
          },
          "title": {
           "x": 0.05
          },
          "xaxis": {
           "automargin": true,
           "gridcolor": "white",
           "linecolor": "white",
           "ticks": "",
           "title": {
            "standoff": 15
           },
           "zerolinecolor": "white",
           "zerolinewidth": 2
          },
          "yaxis": {
           "automargin": true,
           "gridcolor": "white",
           "linecolor": "white",
           "ticks": "",
           "title": {
            "standoff": 15
           },
           "zerolinecolor": "white",
           "zerolinewidth": 2
          }
         }
        },
        "title": {
         "text": "Species Origin Status",
         "x": 0.5
        }
       }
      },
      "text/html": [
       "<div>                            <div id=\"bc410596-bd33-4e7f-bce7-fbcaf8ca0acf\" class=\"plotly-graph-div\" style=\"height:525px; width:100%;\"></div>            <script type=\"text/javascript\">                require([\"plotly\"], function(Plotly) {                    window.PLOTLYENV=window.PLOTLYENV || {};                                    if (document.getElementById(\"bc410596-bd33-4e7f-bce7-fbcaf8ca0acf\")) {                    Plotly.newPlot(                        \"bc410596-bd33-4e7f-bce7-fbcaf8ca0acf\",                        [{\"domain\":{\"x\":[0.0,1.0],\"y\":[0.0,1.0]},\"hovertemplate\":\"Origin=%{label}<br>Num_Records=%{value}<extra></extra>\",\"labels\":[\"Cryptogenic\",\"Endemic\",\"Introduced - eradicated\",\"Introduced - established\",\"Introduced - intercepted\",\"Migrant\",\"Native\",\"No data\",\"Vagrant\"],\"legendgroup\":\"\",\"name\":\"\",\"showlegend\":true,\"values\":[2061,19686,32,17593,31,52,23889,1384,37],\"type\":\"pie\"}],                        {\"template\":{\"data\":{\"histogram2dcontour\":[{\"type\":\"histogram2dcontour\",\"colorbar\":{\"outlinewidth\":0,\"ticks\":\"\"},\"colorscale\":[[0.0,\"#0d0887\"],[0.1111111111111111,\"#46039f\"],[0.2222222222222222,\"#7201a8\"],[0.3333333333333333,\"#9c179e\"],[0.4444444444444444,\"#bd3786\"],[0.5555555555555556,\"#d8576b\"],[0.6666666666666666,\"#ed7953\"],[0.7777777777777778,\"#fb9f3a\"],[0.8888888888888888,\"#fdca26\"],[1.0,\"#f0f921\"]]}],\"choropleth\":[{\"type\":\"choropleth\",\"colorbar\":{\"outlinewidth\":0,\"ticks\":\"\"}}],\"histogram2d\":[{\"type\":\"histogram2d\",\"colorbar\":{\"outlinewidth\":0,\"ticks\":\"\"},\"colorscale\":[[0.0,\"#0d0887\"],[0.1111111111111111,\"#46039f\"],[0.2222222222222222,\"#7201a8\"],[0.3333333333333333,\"#9c179e\"],[0.4444444444444444,\"#bd3786\"],[0.5555555555555556,\"#d8576b\"],[0.6666666666666666,\"#ed7953\"],[0.7777777777777778,\"#fb9f3a\"],[0.8888888888888888,\"#fdca26\"],[1.0,\"#f0f921\"]]}],\"heatmap\":[{\"type\":\"heatmap\",\"colorbar\":{\"outlinewidth\":0,\"ticks\":\"\"},\"colorscale\":[[0.0,\"#0d0887\"],[0.1111111111111111,\"#46039f\"],[0.2222222222222222,\"#7201a8\"],[0.3333333333333333,\"#9c179e\"],[0.4444444444444444,\"#bd3786\"],[0.5555555555555556,\"#d8576b\"],[0.6666666666666666,\"#ed7953\"],[0.7777777777777778,\"#fb9f3a\"],[0.8888888888888888,\"#fdca26\"],[1.0,\"#f0f921\"]]}],\"heatmapgl\":[{\"type\":\"heatmapgl\",\"colorbar\":{\"outlinewidth\":0,\"ticks\":\"\"},\"colorscale\":[[0.0,\"#0d0887\"],[0.1111111111111111,\"#46039f\"],[0.2222222222222222,\"#7201a8\"],[0.3333333333333333,\"#9c179e\"],[0.4444444444444444,\"#bd3786\"],[0.5555555555555556,\"#d8576b\"],[0.6666666666666666,\"#ed7953\"],[0.7777777777777778,\"#fb9f3a\"],[0.8888888888888888,\"#fdca26\"],[1.0,\"#f0f921\"]]}],\"contourcarpet\":[{\"type\":\"contourcarpet\",\"colorbar\":{\"outlinewidth\":0,\"ticks\":\"\"}}],\"contour\":[{\"type\":\"contour\",\"colorbar\":{\"outlinewidth\":0,\"ticks\":\"\"},\"colorscale\":[[0.0,\"#0d0887\"],[0.1111111111111111,\"#46039f\"],[0.2222222222222222,\"#7201a8\"],[0.3333333333333333,\"#9c179e\"],[0.4444444444444444,\"#bd3786\"],[0.5555555555555556,\"#d8576b\"],[0.6666666666666666,\"#ed7953\"],[0.7777777777777778,\"#fb9f3a\"],[0.8888888888888888,\"#fdca26\"],[1.0,\"#f0f921\"]]}],\"surface\":[{\"type\":\"surface\",\"colorbar\":{\"outlinewidth\":0,\"ticks\":\"\"},\"colorscale\":[[0.0,\"#0d0887\"],[0.1111111111111111,\"#46039f\"],[0.2222222222222222,\"#7201a8\"],[0.3333333333333333,\"#9c179e\"],[0.4444444444444444,\"#bd3786\"],[0.5555555555555556,\"#d8576b\"],[0.6666666666666666,\"#ed7953\"],[0.7777777777777778,\"#fb9f3a\"],[0.8888888888888888,\"#fdca26\"],[1.0,\"#f0f921\"]]}],\"mesh3d\":[{\"type\":\"mesh3d\",\"colorbar\":{\"outlinewidth\":0,\"ticks\":\"\"}}],\"scatter\":[{\"fillpattern\":{\"fillmode\":\"overlay\",\"size\":10,\"solidity\":0.2},\"type\":\"scatter\"}],\"parcoords\":[{\"type\":\"parcoords\",\"line\":{\"colorbar\":{\"outlinewidth\":0,\"ticks\":\"\"}}}],\"scatterpolargl\":[{\"type\":\"scatterpolargl\",\"marker\":{\"colorbar\":{\"outlinewidth\":0,\"ticks\":\"\"}}}],\"bar\":[{\"error_x\":{\"color\":\"#2a3f5f\"},\"error_y\":{\"color\":\"#2a3f5f\"},\"marker\":{\"line\":{\"color\":\"#E5ECF6\",\"width\":0.5},\"pattern\":{\"fillmode\":\"overlay\",\"size\":10,\"solidity\":0.2}},\"type\":\"bar\"}],\"scattergeo\":[{\"type\":\"scattergeo\",\"marker\":{\"colorbar\":{\"outlinewidth\":0,\"ticks\":\"\"}}}],\"scatterpolar\":[{\"type\":\"scatterpolar\",\"marker\":{\"colorbar\":{\"outlinewidth\":0,\"ticks\":\"\"}}}],\"histogram\":[{\"marker\":{\"pattern\":{\"fillmode\":\"overlay\",\"size\":10,\"solidity\":0.2}},\"type\":\"histogram\"}],\"scattergl\":[{\"type\":\"scattergl\",\"marker\":{\"colorbar\":{\"outlinewidth\":0,\"ticks\":\"\"}}}],\"scatter3d\":[{\"type\":\"scatter3d\",\"line\":{\"colorbar\":{\"outlinewidth\":0,\"ticks\":\"\"}},\"marker\":{\"colorbar\":{\"outlinewidth\":0,\"ticks\":\"\"}}}],\"scattermapbox\":[{\"type\":\"scattermapbox\",\"marker\":{\"colorbar\":{\"outlinewidth\":0,\"ticks\":\"\"}}}],\"scatterternary\":[{\"type\":\"scatterternary\",\"marker\":{\"colorbar\":{\"outlinewidth\":0,\"ticks\":\"\"}}}],\"scattercarpet\":[{\"type\":\"scattercarpet\",\"marker\":{\"colorbar\":{\"outlinewidth\":0,\"ticks\":\"\"}}}],\"carpet\":[{\"aaxis\":{\"endlinecolor\":\"#2a3f5f\",\"gridcolor\":\"white\",\"linecolor\":\"white\",\"minorgridcolor\":\"white\",\"startlinecolor\":\"#2a3f5f\"},\"baxis\":{\"endlinecolor\":\"#2a3f5f\",\"gridcolor\":\"white\",\"linecolor\":\"white\",\"minorgridcolor\":\"white\",\"startlinecolor\":\"#2a3f5f\"},\"type\":\"carpet\"}],\"table\":[{\"cells\":{\"fill\":{\"color\":\"#EBF0F8\"},\"line\":{\"color\":\"white\"}},\"header\":{\"fill\":{\"color\":\"#C8D4E3\"},\"line\":{\"color\":\"white\"}},\"type\":\"table\"}],\"barpolar\":[{\"marker\":{\"line\":{\"color\":\"#E5ECF6\",\"width\":0.5},\"pattern\":{\"fillmode\":\"overlay\",\"size\":10,\"solidity\":0.2}},\"type\":\"barpolar\"}],\"pie\":[{\"automargin\":true,\"type\":\"pie\"}]},\"layout\":{\"autotypenumbers\":\"strict\",\"colorway\":[\"#636efa\",\"#EF553B\",\"#00cc96\",\"#ab63fa\",\"#FFA15A\",\"#19d3f3\",\"#FF6692\",\"#B6E880\",\"#FF97FF\",\"#FECB52\"],\"font\":{\"color\":\"#2a3f5f\"},\"hovermode\":\"closest\",\"hoverlabel\":{\"align\":\"left\"},\"paper_bgcolor\":\"white\",\"plot_bgcolor\":\"#E5ECF6\",\"polar\":{\"bgcolor\":\"#E5ECF6\",\"angularaxis\":{\"gridcolor\":\"white\",\"linecolor\":\"white\",\"ticks\":\"\"},\"radialaxis\":{\"gridcolor\":\"white\",\"linecolor\":\"white\",\"ticks\":\"\"}},\"ternary\":{\"bgcolor\":\"#E5ECF6\",\"aaxis\":{\"gridcolor\":\"white\",\"linecolor\":\"white\",\"ticks\":\"\"},\"baxis\":{\"gridcolor\":\"white\",\"linecolor\":\"white\",\"ticks\":\"\"},\"caxis\":{\"gridcolor\":\"white\",\"linecolor\":\"white\",\"ticks\":\"\"}},\"coloraxis\":{\"colorbar\":{\"outlinewidth\":0,\"ticks\":\"\"}},\"colorscale\":{\"sequential\":[[0.0,\"#0d0887\"],[0.1111111111111111,\"#46039f\"],[0.2222222222222222,\"#7201a8\"],[0.3333333333333333,\"#9c179e\"],[0.4444444444444444,\"#bd3786\"],[0.5555555555555556,\"#d8576b\"],[0.6666666666666666,\"#ed7953\"],[0.7777777777777778,\"#fb9f3a\"],[0.8888888888888888,\"#fdca26\"],[1.0,\"#f0f921\"]],\"sequentialminus\":[[0.0,\"#0d0887\"],[0.1111111111111111,\"#46039f\"],[0.2222222222222222,\"#7201a8\"],[0.3333333333333333,\"#9c179e\"],[0.4444444444444444,\"#bd3786\"],[0.5555555555555556,\"#d8576b\"],[0.6666666666666666,\"#ed7953\"],[0.7777777777777778,\"#fb9f3a\"],[0.8888888888888888,\"#fdca26\"],[1.0,\"#f0f921\"]],\"diverging\":[[0,\"#8e0152\"],[0.1,\"#c51b7d\"],[0.2,\"#de77ae\"],[0.3,\"#f1b6da\"],[0.4,\"#fde0ef\"],[0.5,\"#f7f7f7\"],[0.6,\"#e6f5d0\"],[0.7,\"#b8e186\"],[0.8,\"#7fbc41\"],[0.9,\"#4d9221\"],[1,\"#276419\"]]},\"xaxis\":{\"gridcolor\":\"white\",\"linecolor\":\"white\",\"ticks\":\"\",\"title\":{\"standoff\":15},\"zerolinecolor\":\"white\",\"automargin\":true,\"zerolinewidth\":2},\"yaxis\":{\"gridcolor\":\"white\",\"linecolor\":\"white\",\"ticks\":\"\",\"title\":{\"standoff\":15},\"zerolinecolor\":\"white\",\"automargin\":true,\"zerolinewidth\":2},\"scene\":{\"xaxis\":{\"backgroundcolor\":\"#E5ECF6\",\"gridcolor\":\"white\",\"linecolor\":\"white\",\"showbackground\":true,\"ticks\":\"\",\"zerolinecolor\":\"white\",\"gridwidth\":2},\"yaxis\":{\"backgroundcolor\":\"#E5ECF6\",\"gridcolor\":\"white\",\"linecolor\":\"white\",\"showbackground\":true,\"ticks\":\"\",\"zerolinecolor\":\"white\",\"gridwidth\":2},\"zaxis\":{\"backgroundcolor\":\"#E5ECF6\",\"gridcolor\":\"white\",\"linecolor\":\"white\",\"showbackground\":true,\"ticks\":\"\",\"zerolinecolor\":\"white\",\"gridwidth\":2}},\"shapedefaults\":{\"line\":{\"color\":\"#2a3f5f\"}},\"annotationdefaults\":{\"arrowcolor\":\"#2a3f5f\",\"arrowhead\":0,\"arrowwidth\":1},\"geo\":{\"bgcolor\":\"white\",\"landcolor\":\"#E5ECF6\",\"subunitcolor\":\"white\",\"showland\":true,\"showlakes\":true,\"lakecolor\":\"white\"},\"title\":{\"x\":0.05},\"mapbox\":{\"style\":\"light\"}}},\"legend\":{\"tracegroupgap\":0},\"margin\":{\"t\":60},\"title\":{\"text\":\"Species Origin Status\",\"x\":0.5}},                        {\"responsive\": true}                    ).then(function(){\n",
       "                            \n",
       "var gd = document.getElementById('bc410596-bd33-4e7f-bce7-fbcaf8ca0acf');\n",
       "var x = new MutationObserver(function (mutations, observer) {{\n",
       "        var display = window.getComputedStyle(gd).display;\n",
       "        if (!display || display === 'none') {{\n",
       "            console.log([gd, 'removed!']);\n",
       "            Plotly.purge(gd);\n",
       "            observer.disconnect();\n",
       "        }}\n",
       "}});\n",
       "\n",
       "// Listen for the removal of the full notebook cells\n",
       "var notebookContainer = gd.closest('#notebook-container');\n",
       "if (notebookContainer) {{\n",
       "    x.observe(notebookContainer, {childList: true});\n",
       "}}\n",
       "\n",
       "// Listen for the clearing of the current output cell\n",
       "var outputEl = gd.closest('.output');\n",
       "if (outputEl) {{\n",
       "    x.observe(outputEl, {childList: true});\n",
       "}}\n",
       "\n",
       "                        })                };                });            </script>        </div>"
      ]
     },
     "metadata": {},
     "output_type": "display_data"
    }
   ],
   "source": [
    "fig = px.pie(Orig, values='Num_Records', names='Origin')\n",
    "fig.update_layout(title=\"Species Origin Status\", title_x=0.5)\n",
    "fig.show()"
   ]
  },
  {
   "cell_type": "code",
   "execution_count": null,
   "id": "b83e8d40",
   "metadata": {},
   "outputs": [],
   "source": []
  }
 ],
 "metadata": {
  "kernelspec": {
   "display_name": "Python 3 (ipykernel)",
   "language": "python",
   "name": "python3"
  },
  "language_info": {
   "codemirror_mode": {
    "name": "ipython",
    "version": 3
   },
   "file_extension": ".py",
   "mimetype": "text/x-python",
   "name": "python",
   "nbconvert_exporter": "python",
   "pygments_lexer": "ipython3",
   "version": "3.11.9"
  }
 },
 "nbformat": 4,
 "nbformat_minor": 5
}
